{
  "nbformat": 4,
  "nbformat_minor": 0,
  "metadata": {
    "colab": {
      "name": "Python 物件導向程式開發.ipynb",
      "provenance": [],
      "collapsed_sections": [],
      "toc_visible": true,
      "include_colab_link": true
    },
    "kernelspec": {
      "name": "python3",
      "display_name": "Python 3"
    },
    "language_info": {
      "name": "python"
    }
  },
  "cells": [
    {
      "cell_type": "markdown",
      "metadata": {
        "id": "view-in-github",
        "colab_type": "text"
      },
      "source": [
        "<a href=\"https://colab.research.google.com/github/xuzhenting/Notebooks/blob/main/Python_%E7%89%A9%E4%BB%B6%E5%B0%8E%E5%90%91%E7%A8%8B%E5%BC%8F%E9%96%8B%E7%99%BC.ipynb\" target=\"_parent\"><img src=\"https://colab.research.google.com/assets/colab-badge.svg\" alt=\"Open In Colab\"/></a>"
      ]
    },
    {
      "cell_type": "markdown",
      "source": [
        "# 亂數模組"
      ],
      "metadata": {
        "id": "d6OmmrQa6cGO"
      }
    },
    {
      "cell_type": "code",
      "source": [
        "# 使用自建模組\n",
        "import tool as t\n",
        "t.hello()"
      ],
      "metadata": {
        "id": "3snck6eY3ytq",
        "colab": {
          "base_uri": "https://localhost:8080/"
        },
        "outputId": "9b77ff8f-31e3-49ba-ef87-7d2f02e61d03"
      },
      "execution_count": null,
      "outputs": [
        {
          "output_type": "stream",
          "name": "stdout",
          "text": [
            "Hello\n"
          ]
        }
      ]
    },
    {
      "cell_type": "markdown",
      "source": [
        "## import 模組\n",
        "> import random  \n",
        "> random.randint()  \n",
        "> import random as r  \n",
        "> r.randint()   \n",
        "> from random import randint  \n",
        "> randint() \n"
      ],
      "metadata": {
        "id": "-P9E9eD761gF"
      }
    },
    {
      "cell_type": "markdown",
      "source": [
        "## 亂數函式\n",
        "> random()、randint()、choice()、  \n",
        "> sample()、randrange()、shuffle()  \n",
        "> uniform()"
      ],
      "metadata": {
        "id": "KHicZ5BC2BIO"
      }
    },
    {
      "cell_type": "code",
      "source": [
        "import random as r\n",
        "r.randint(1,6) #輸出大於等於一小於六的參數\n",
        "r.choice(\"123456\") #從指定字串隨機取出一個\n",
        "r.sample([1,2,3,4,5,6],3) #從指定字串隨機取出三個"
      ],
      "metadata": {
        "id": "ZKn-wGiaXHeC",
        "colab": {
          "base_uri": "https://localhost:8080/"
        },
        "outputId": "e8c4eba4-dd93-41a8-b8f0-06e85f4b5488"
      },
      "execution_count": null,
      "outputs": [
        {
          "output_type": "execute_result",
          "data": {
            "text/plain": [
              "[5, 2, 6]"
            ]
          },
          "metadata": {},
          "execution_count": 5
        }
      ]
    },
    {
      "cell_type": "markdown",
      "source": [
        "## 範例：擲骰子遊戲"
      ],
      "metadata": {
        "id": "2TXXkoTF4gvt"
      }
    },
    {
      "cell_type": "code",
      "source": [
        "# 擲骰子遊戲\n",
        "import random as r\n",
        "while True:\n",
        "  inkey=input(\"請輸入任意鍵再按【Enter】鍵擲骰子，直接按【Enter】鍵結束:\")\n",
        "  if len(inkey)>0 :\n",
        "    num=r.randint(1,6)\n",
        "    print(num)\n",
        "  else:\n",
        "    print(\"結束遊戲\")\n",
        "    break"
      ],
      "metadata": {
        "colab": {
          "base_uri": "https://localhost:8080/"
        },
        "id": "BVaHOUgJbSL3",
        "outputId": "de3ae6d0-0d9f-4865-b393-d8067c76b6cd"
      },
      "execution_count": null,
      "outputs": [
        {
          "output_type": "stream",
          "name": "stdout",
          "text": [
            "請輸入任意鍵再按【Enter】鍵擲骰子，直接按【Enter】鍵結束:1\n",
            "1\n",
            "請輸入任意鍵再按【Enter】鍵擲骰子，直接按【Enter】鍵結束:3\n",
            "5\n"
          ]
        }
      ]
    },
    {
      "cell_type": "markdown",
      "source": [
        "## 練習：用特殊符號擲骰子"
      ],
      "metadata": {
        "id": "LphLb7Wn-mzV"
      }
    },
    {
      "cell_type": "code",
      "source": [
        "import random as r\n",
        "str1 = '⚀⚁⚂⚃⚄⚅'\n",
        "while True:\n",
        "  inkey=input(\"請輸入任意鍵再按【Enter】鍵擲骰子，直接按【Enter】鍵結束:\")\n",
        "  if len(inkey) >0 :\n",
        "    num = r.randint(1,6)\n",
        "    print(str1[num-1])\n",
        "  else:\n",
        "    print(\"結束遊戲\")"
      ],
      "metadata": {
        "id": "o7XO5W2UFHP0",
        "colab": {
          "base_uri": "https://localhost:8080/"
        },
        "outputId": "aa0d80ce-3807-434d-9180-09e83da91e92"
      },
      "execution_count": null,
      "outputs": [
        {
          "output_type": "stream",
          "name": "stdout",
          "text": [
            "請輸入任意鍵再按【Enter】鍵擲骰子，直接按【Enter】鍵結束:4\n",
            "⚀\n"
          ]
        }
      ]
    },
    {
      "cell_type": "markdown",
      "source": [
        "## 範例：大樂透中獎號碼"
      ],
      "metadata": {
        "id": "LljMX7Ltuh-9"
      }
    },
    {
      "cell_type": "code",
      "source": [
        "# 大樂透中獎號碼\n",
        "import random as r\n",
        "list1 = r.sample(range(1,50),7)\n",
        "special = list1.pop()\n",
        "print(list1,special)\n",
        "\n",
        "print(\"本期大樂透中獎號碼為：\",end=\"\")\n",
        "for i in range(0,6):\n",
        " if i == 5:\n",
        "   print(str(list1[i]))\n",
        " else:\n",
        "   print(str(list1[i]),end=',')\n",
        "print(\"本期大樂透特別號為：\" + str(special))"
      ],
      "metadata": {
        "id": "EzEvhBuyqco8",
        "colab": {
          "base_uri": "https://localhost:8080/"
        },
        "outputId": "20a38100-2780-449e-8572-24949a972885"
      },
      "execution_count": null,
      "outputs": [
        {
          "output_type": "stream",
          "name": "stdout",
          "text": [
            "[25, 39, 48, 12, 16, 46] 6\n",
            "本期大樂透中獎號碼為：25,39,48,12,16,46\n",
            "本期大樂透特別號為：6\n"
          ]
        }
      ]
    },
    {
      "cell_type": "markdown",
      "source": [
        "## 練習：大樂透開獎-使用 shuffle 函式"
      ],
      "metadata": {
        "id": "UIWFVQ1lTsg9"
      }
    },
    {
      "cell_type": "code",
      "source": [
        "# 大樂透開獎(二)\n",
        "import random as r\n",
        "\n",
        "\n",
        "\n",
        "print(\"本期大樂透中獎號碼為：\",end=\"\")\n",
        "for i in range(0,6):\n",
        " if i == 5:\n",
        "   print(str(list1[i]))\n",
        " else:\n",
        "   print(str(list1[i]),end=',')\n",
        "print(\"本期大樂透特別號為：\" + str(special))"
      ],
      "metadata": {
        "id": "tfwUx9xeUAoe"
      },
      "execution_count": null,
      "outputs": []
    },
    {
      "cell_type": "markdown",
      "source": [
        "# 時間模組"
      ],
      "metadata": {
        "id": "mYIAL4Ezul-s"
      }
    },
    {
      "cell_type": "markdown",
      "source": [
        "## 常用時間函式\n",
        "> time()、sleep()、ctime()、localtime()"
      ],
      "metadata": {
        "id": "q9LzskP9_mz_"
      }
    },
    {
      "cell_type": "code",
      "source": [
        "import time\n",
        "# help(time.sleep)\n",
        "time.time() #從1970年計算至今的時間戳記符點數,可用來計時\n",
        "time.sleep(1) #暫停一秒鐘\n",
        "time.ctime()[-4:] #用字串格式顯示目前時間\n",
        "time.localtime() #結構時間的格式"
      ],
      "metadata": {
        "colab": {
          "base_uri": "https://localhost:8080/"
        },
        "id": "dcLcAEnajOxF",
        "outputId": "9c98803b-3a52-47fa-f00b-4045ccac1d7b"
      },
      "execution_count": null,
      "outputs": [
        {
          "output_type": "execute_result",
          "data": {
            "text/plain": [
              "time.struct_time(tm_year=2022, tm_mon=7, tm_mday=27, tm_hour=2, tm_min=59, tm_sec=50, tm_wday=2, tm_yday=208, tm_isdst=0)"
            ]
          },
          "metadata": {},
          "execution_count": 10
        }
      ]
    },
    {
      "cell_type": "markdown",
      "source": [
        "## 計算時間"
      ],
      "metadata": {
        "id": "Z7HvWszt__K1"
      }
    },
    {
      "cell_type": "markdown",
      "source": [
        "### 範例\n",
        "計算時間、取得本地時間"
      ],
      "metadata": {
        "id": "gm3yMNn4qBWy"
      }
    },
    {
      "cell_type": "code",
      "source": [
        "# 計算時間\n",
        "import time\n",
        "start = time.time()\n",
        "print(f\"開始時間:{start}\")\n",
        "for i in range(0,100):\n",
        "  time.sleep(0.001)\n",
        "end = time.time()\n",
        "print(\"結束時間:{}\".format(end))\n",
        "print(\"使用時間:%7.3f\"%(end-start))"
      ],
      "metadata": {
        "id": "puUHEcVkvbqs",
        "colab": {
          "base_uri": "https://localhost:8080/"
        },
        "outputId": "b6d5c18f-3c69-45c2-c799-15a6d5a95708"
      },
      "execution_count": null,
      "outputs": [
        {
          "output_type": "stream",
          "name": "stdout",
          "text": [
            "開始時間:1658890454.1304407\n",
            "結束時間:1658890454.241941\n",
            "使用時間:  0.112\n"
          ]
        }
      ]
    },
    {
      "cell_type": "code",
      "source": [
        "# 取得本地時間\n",
        "import time\n"
      ],
      "metadata": {
        "id": "xvys7eZLOp4E"
      },
      "execution_count": null,
      "outputs": []
    },
    {
      "cell_type": "markdown",
      "source": [
        "## 中華民國年月日"
      ],
      "metadata": {
        "id": "OxGSrXF_AYf9"
      }
    },
    {
      "cell_type": "markdown",
      "source": [
        "### 範例\n",
        "轉換為中華民國年月日"
      ],
      "metadata": {
        "id": "91lN9vrEphgk"
      }
    },
    {
      "cell_type": "code",
      "source": [
        "# 轉換為本地時間、中華民國年月日\n",
        "import time\n",
        "now = time.localtime()\n",
        "print(now)\n",
        "cyear = int(now.tm_year)-1911\n",
        "month = now.tm_mon\n",
        "day = now.tm_mday\n",
        "print(f\"中華民國{cyear}年{month}月{day}日\")"
      ],
      "metadata": {
        "id": "frg3YY0UxAtd",
        "colab": {
          "base_uri": "https://localhost:8080/"
        },
        "outputId": "03f11cb9-ca05-41a5-9daa-4874c583d310"
      },
      "execution_count": null,
      "outputs": [
        {
          "output_type": "stream",
          "name": "stdout",
          "text": [
            "time.struct_time(tm_year=2022, tm_mon=7, tm_mday=27, tm_hour=3, tm_min=4, tm_sec=52, tm_wday=2, tm_yday=208, tm_isdst=0)\n",
            "中華民國111年7月27日\n"
          ]
        }
      ]
    },
    {
      "cell_type": "markdown",
      "source": [
        "### 練習\n",
        "將時間戳記轉換為中華民國年月日\n",
        "\n",
        "\n"
      ],
      "metadata": {
        "id": "u2DvNzPqOP4_"
      }
    },
    {
      "cell_type": "code",
      "source": [
        "# 將時間戳記轉換為中華民國年月日 \n",
        "import time\n",
        "seconds=1293840000.0\n"
      ],
      "metadata": {
        "id": "RxFCMq4XcEQA"
      },
      "execution_count": null,
      "outputs": []
    },
    {
      "cell_type": "markdown",
      "source": [
        "# 檔案操作"
      ],
      "metadata": {
        "id": "ukUTswy10DpV"
      }
    },
    {
      "cell_type": "markdown",
      "source": [
        "## os 模組"
      ],
      "metadata": {
        "id": "O2BsnluzBDGG"
      }
    },
    {
      "cell_type": "markdown",
      "source": [
        "### os 函式\n",
        "> getcwd()、remove()、mkdir()、rmdir()、makedirs()"
      ],
      "metadata": {
        "id": "jr4orsidJce2"
      }
    },
    {
      "cell_type": "code",
      "source": [
        "# 取得目前的工作目錄\n",
        "import os\n",
        "os.getcwd() #取得目前工作目錄\n",
        "os.remove(\"hello.py\") # 刪除檔案\n",
        "os.mkdir(\"第一層目錄\") #建立指定目錄.無法一次建立多層目錄\n",
        "os.rmdir(\"第一層目錄\") #刪除指定目錄\n",
        "os.makedirs(\"第一層/第二層\") #可建立多層目錄"
      ],
      "metadata": {
        "id": "Z9F7P-qM0GIr",
        "colab": {
          "base_uri": "https://localhost:8080/",
          "height": 35
        },
        "outputId": "5eff96bf-7834-4df4-b521-cd928639c477"
      },
      "execution_count": null,
      "outputs": [
        {
          "output_type": "execute_result",
          "data": {
            "text/plain": [
              "'/content'"
            ],
            "application/vnd.google.colaboratory.intrinsic+json": {
              "type": "string"
            }
          },
          "metadata": {},
          "execution_count": 15
        }
      ]
    },
    {
      "cell_type": "code",
      "source": [
        "# 建立 hello.py 檔\n",
        "%%writefile hello.py\n",
        "print(\"hello\")"
      ],
      "metadata": {
        "id": "fGxNoOiI55JO",
        "colab": {
          "base_uri": "https://localhost:8080/"
        },
        "outputId": "1edb5479-9835-46c2-e897-fa3ded455fbd"
      },
      "execution_count": null,
      "outputs": [
        {
          "output_type": "stream",
          "name": "stdout",
          "text": [
            "Writing hello.py\n"
          ]
        }
      ]
    },
    {
      "cell_type": "code",
      "source": [
        "# 執行檔案\n",
        "%run hello.py"
      ],
      "metadata": {
        "id": "PgAii4XT6qcF",
        "colab": {
          "base_uri": "https://localhost:8080/"
        },
        "outputId": "eb54e828-0a08-44fd-a101-3bc9d08945bc"
      },
      "execution_count": null,
      "outputs": [
        {
          "output_type": "stream",
          "name": "stdout",
          "text": [
            "hello\n"
          ]
        }
      ]
    },
    {
      "cell_type": "markdown",
      "source": [
        "### 刪除檔案"
      ],
      "metadata": {
        "id": "VVVAw6epBi0e"
      }
    },
    {
      "cell_type": "code",
      "source": [
        "# 刪除檔案\n",
        "import os\n",
        "file = \"hello.py\"\n",
        "if os.path.exists(file):\n",
        "  os.remove(file)\n",
        "else:\n",
        "  print('檔案不存在')"
      ],
      "metadata": {
        "id": "O7APjMrxTuDo",
        "colab": {
          "base_uri": "https://localhost:8080/"
        },
        "outputId": "55382d57-11d6-4208-fd68-20f6fa634bee"
      },
      "execution_count": null,
      "outputs": [
        {
          "output_type": "stream",
          "name": "stdout",
          "text": [
            "檔案不存在\n"
          ]
        }
      ]
    },
    {
      "cell_type": "code",
      "source": [
        "# 刪除目錄\n",
        "import os\n",
        "dir=\"dir1\"\n",
        "if os.path.exists(dir):\n",
        "  os.rmdir(dir)\n",
        "  print(\"目錄已刪除\")\n",
        "else:\n",
        "  os.mkdir(dir)\n",
        "  print(\"目錄已建立\")"
      ],
      "metadata": {
        "id": "UVUNQIho0Vn8",
        "colab": {
          "base_uri": "https://localhost:8080/"
        },
        "outputId": "ea7ac75f-5798-49c4-e0f8-75e849de6392"
      },
      "execution_count": null,
      "outputs": [
        {
          "output_type": "stream",
          "name": "stdout",
          "text": [
            "目錄已建立\n"
          ]
        }
      ]
    },
    {
      "cell_type": "markdown",
      "source": [
        "##shutil 模組"
      ],
      "metadata": {
        "id": "EETM-g0f4Mg0"
      }
    },
    {
      "cell_type": "code",
      "source": [
        "# 刪除指定目錄(非空目錄)\n",
        "import shutil\n",
        "shutil.rmtree(\"第一層目錄/第二層目錄\") #會把目錄下的所有檔案刪除"
      ],
      "metadata": {
        "id": "cuDrSbfc4WNk"
      },
      "execution_count": null,
      "outputs": []
    },
    {
      "cell_type": "code",
      "source": [
        "# Colab指令\n",
        "!rm -i -rf \"檔案或目錄\" #-i先詢問-rf再刪除"
      ],
      "metadata": {
        "id": "P7iausXr6wn8"
      },
      "execution_count": null,
      "outputs": []
    },
    {
      "cell_type": "markdown",
      "source": [
        "## os.path 模組"
      ],
      "metadata": {
        "id": "3OCgw1EECtce"
      }
    },
    {
      "cell_type": "markdown",
      "source": [
        "### os.path 的函式\n",
        ">abspath()、basename()、exists()、getsize()  \n",
        ">split()、join()  "
      ],
      "metadata": {
        "id": "bXud4tkAOuAH"
      }
    },
    {
      "cell_type": "code",
      "source": [
        "import os\n",
        "os.path.exists(\"hello.py\") #檢查檔案是否存在\n",
        "os.path.abspath(\"hello.py\") #輸出檔案完整路徑\n",
        "os.path.basename(\"dir1\") #依參數輸出路徑或檔名\n",
        "os.path.getsize(\"hello.py\") #取得檔案大小"
      ],
      "metadata": {
        "colab": {
          "base_uri": "https://localhost:8080/",
          "height": 35
        },
        "id": "e5r_wRcD1Ujy",
        "outputId": "9abaadf5-9966-4923-8730-1ba5cc1697ab"
      },
      "execution_count": null,
      "outputs": [
        {
          "output_type": "execute_result",
          "data": {
            "text/plain": [
              "'dir1'"
            ],
            "application/vnd.google.colaboratory.intrinsic+json": {
              "type": "string"
            }
          },
          "metadata": {},
          "execution_count": 26
        }
      ]
    },
    {
      "cell_type": "markdown",
      "source": [
        "### 範例\n",
        "\n",
        "顯示檔案的路徑、大小，分割檔案路徑。"
      ],
      "metadata": {
        "id": "PCvC-T893Ffw"
      }
    },
    {
      "cell_type": "code",
      "source": [
        "# os.path 函式操作\n",
        "import os\n",
        "file = \"hello.py\"\n",
        "file = os.path.join(os.getcwd(),file) #將路徑join在檔案上\n",
        "dir = \"dir1\"\n",
        "print(os.path.abspath(file)) #傳回檔案路徑\n",
        "print(os.path.basename(file)) #傳回檔名\n",
        "print(os.path.basename(dir)) #傳回路徑\n",
        "print(os.path.split(file)) #將路徑及檔名分割"
      ],
      "metadata": {
        "id": "4oYB4kSMWs7w",
        "colab": {
          "base_uri": "https://localhost:8080/"
        },
        "outputId": "9b0ba614-9c7c-49ac-e05d-86162f251afa"
      },
      "execution_count": null,
      "outputs": [
        {
          "output_type": "stream",
          "name": "stdout",
          "text": [
            "/content/hello.py\n",
            "hello.py\n",
            "dir1\n",
            "('/content', 'hello.py')\n"
          ]
        }
      ]
    },
    {
      "cell_type": "code",
      "source": [
        "# 檔案大小\n",
        "import os\n",
        "file = \"hello.py\"\n",
        "file = os.path.join(os.getcwd(),file)\n",
        "if os.path.exists(file):\n",
        "  print('檔案大小:',os.path.getsize(file))"
      ],
      "metadata": {
        "id": "m_mMr0CxYaTx",
        "colab": {
          "base_uri": "https://localhost:8080/"
        },
        "outputId": "905fe6bb-a140-4c4e-d801-46c4c7cc070f"
      },
      "execution_count": null,
      "outputs": [
        {
          "output_type": "stream",
          "name": "stdout",
          "text": [
            "檔案大小: 14\n"
          ]
        }
      ]
    },
    {
      "cell_type": "markdown",
      "source": [
        "###練習"
      ],
      "metadata": {
        "id": "LIsP5F3yhouW"
      }
    },
    {
      "cell_type": "code",
      "source": [
        "# 建立myDir目錄，並在myDir目錄中建立myFile.py檔\n",
        "import os\n",
        "dir=\"myDir\"\n",
        "if os.path.exists(dir):\n",
        "  print(\"目錄已建立\")\n",
        "else:\n",
        "  print(\"目錄不存在\")"
      ],
      "metadata": {
        "id": "sZpoi8rQhpQV",
        "colab": {
          "base_uri": "https://localhost:8080/"
        },
        "outputId": "dc2233fe-99e0-4b98-bddd-883d6e48cbfb"
      },
      "execution_count": null,
      "outputs": [
        {
          "output_type": "stream",
          "name": "stdout",
          "text": [
            "目錄不存在\n"
          ]
        }
      ]
    },
    {
      "cell_type": "code",
      "source": [
        "# 若myFile.py已建立，顯示該檔案的完整路徑和檔案大小。\n",
        "import os\n",
        "file = \"/content/myDir/myFile.py\"\n",
        "if os.path.exists(file):\n",
        "  print(os.path.abspath(file))\n",
        "  print(os.path.getsize(file))"
      ],
      "metadata": {
        "id": "JnZD0pvJHRyt",
        "colab": {
          "base_uri": "https://localhost:8080/"
        },
        "outputId": "e9681f1f-a372-4179-837f-0e4d63cc895e"
      },
      "execution_count": null,
      "outputs": [
        {
          "output_type": "stream",
          "name": "stdout",
          "text": [
            "/content/myDir/myFile.py\n",
            "0\n"
          ]
        }
      ]
    },
    {
      "cell_type": "markdown",
      "source": [
        "## os.walk 函式"
      ],
      "metadata": {
        "id": "MGto3jmEDTvE"
      }
    },
    {
      "cell_type": "code",
      "source": [
        "# 下載 Google 雲端硬碟的 oswalk.zip 並解壓縮\n",
        "!gdown '1PbhNT4duXnW1L8WYpKpmctxuU1G2mDKX' --output oswalk.zip\n",
        "!unzip oswalk.zip"
      ],
      "metadata": {
        "id": "OvEuC1SeSWEU",
        "colab": {
          "base_uri": "https://localhost:8080/"
        },
        "outputId": "5389507f-b9c0-47b5-d2ad-9c8d3635e83e"
      },
      "execution_count": null,
      "outputs": [
        {
          "output_type": "stream",
          "name": "stdout",
          "text": [
            "Downloading...\n",
            "From: https://drive.google.com/uc?id=1PbhNT4duXnW1L8WYpKpmctxuU1G2mDKX\n",
            "To: /content/oswalk.zip\n",
            "\r  0% 0.00/193k [00:00<?, ?B/s]\r100% 193k/193k [00:00<00:00, 88.5MB/s]\n",
            "Archive:  oswalk.zip\n",
            "   creating: oswalk/\n",
            "   creating: oswalk/Dir/\n",
            " extracting: oswalk/Dir/Dir1.txt     \n",
            " extracting: oswalk/Dir/Dir2.txt     \n",
            "   creating: oswalk/Dir/SubDir/\n",
            " extracting: oswalk/Dir/SubDir/SubDir1.txt  \n",
            "  inflating: oswalk/oswalk.py        \n",
            " extracting: oswalk/oswalk1.txt      \n",
            "   creating: images/\n",
            "  inflating: images/img01.jpg        \n",
            "  inflating: images/img02.jpg        \n",
            "  inflating: images/img03.jpg        \n",
            "  inflating: images/img04.jpg        \n",
            "  inflating: images/img05.jpg        \n",
            "  inflating: images/img06.jpg        \n"
          ]
        }
      ]
    },
    {
      "cell_type": "markdown",
      "source": [
        "###範例\n",
        "取得 oswork 目錄的檔案路徑、目錄串列和檔案串列。"
      ],
      "metadata": {
        "id": "7YSNZJe0HGzt"
      }
    },
    {
      "cell_type": "code",
      "source": [
        "# oswork 函式\n",
        "import os\n",
        "cur_path=\"/content/oswalk\"\n",
        "sample_tree=os.walk(cur_path)\n",
        "for dirname,subdir,files in sample_tree:\n",
        "  print('檔案路徑:',dirname)\n",
        "  print('目錄串列:',subdir)\n",
        "  print('檔案串列:',files)"
      ],
      "metadata": {
        "id": "Kaq7xWBoao0h",
        "colab": {
          "base_uri": "https://localhost:8080/"
        },
        "outputId": "5cb36a48-c5dc-4562-a98a-b619024ce8cd"
      },
      "execution_count": null,
      "outputs": [
        {
          "output_type": "stream",
          "name": "stdout",
          "text": [
            "檔案路徑: /content/oswalk\n",
            "目錄串列: ['Dir']\n",
            "檔案串列: ['oswalk.py', 'oswalk1.txt']\n",
            "檔案路徑: /content/oswalk/Dir\n",
            "目錄串列: ['SubDir']\n",
            "檔案串列: ['Dir2.txt', 'Dir1.txt']\n",
            "檔案路徑: /content/oswalk/Dir/SubDir\n",
            "目錄串列: []\n",
            "檔案串列: ['SubDir1.txt']\n"
          ]
        }
      ]
    },
    {
      "cell_type": "markdown",
      "source": [
        "### 練習\n",
        "計算 oswork 目錄及其子目錄共有幾個 txt 檔案。"
      ],
      "metadata": {
        "id": "0Elpw-ehr5Jl"
      }
    },
    {
      "cell_type": "code",
      "source": [
        "# oswork 函式\n",
        "import os\n",
        "cur_path=\"/content/oswalk\"\n",
        "sample_tree=os.walk(cur_path)\n",
        "n = 0\n",
        "for dirname,subdir,files in sample_tree:\n",
        "  for file in files:\n",
        "    if '.txt' in file:\n",
        "      print(file)\n",
        "      n+=1\n",
        "print(f\"共有{n}個檔案\")"
      ],
      "metadata": {
        "id": "J-SUpKJ_sJWe",
        "colab": {
          "base_uri": "https://localhost:8080/"
        },
        "outputId": "8e440abb-dc9e-401c-e7eb-defd74ede5fe"
      },
      "execution_count": null,
      "outputs": [
        {
          "output_type": "stream",
          "name": "stdout",
          "text": [
            "oswalk1.txt\n",
            "Dir2.txt\n",
            "Dir1.txt\n",
            "SubDir1.txt\n",
            "共有4個檔案\n"
          ]
        }
      ]
    },
    {
      "cell_type": "markdown",
      "source": [
        "## glob 模組"
      ],
      "metadata": {
        "id": "HRKMKI3cDhTV"
      }
    },
    {
      "cell_type": "markdown",
      "source": [
        "###範例\n",
        "取得 images 目錄中的所有 zip 檔。"
      ],
      "metadata": {
        "id": "aazlZIytIZfV"
      }
    },
    {
      "cell_type": "code",
      "source": [
        "# glob 函式\n",
        "import glob\n",
        "files = glob.glob('images/*.jpg')\n",
        "for file in files:\n",
        "  print(file)"
      ],
      "metadata": {
        "id": "cas8PwBGDgUF",
        "colab": {
          "base_uri": "https://localhost:8080/"
        },
        "outputId": "1edbfea4-775e-4fdb-d1f1-d30974a13b7e"
      },
      "execution_count": null,
      "outputs": [
        {
          "output_type": "stream",
          "name": "stdout",
          "text": [
            "images/img04.jpg\n",
            "images/img02.jpg\n",
            "images/img01.jpg\n",
            "images/img06.jpg\n",
            "images/img03.jpg\n",
            "images/img05.jpg\n"
          ]
        }
      ]
    },
    {
      "cell_type": "markdown",
      "source": [
        "### 練習\n",
        "取得 oswalk/Dir 中的所有 txt 檔。"
      ],
      "metadata": {
        "id": "OyQKwUaErSwl"
      }
    },
    {
      "cell_type": "code",
      "source": [
        "# glob 函式\n",
        "import glob\n",
        "files = glob.glob('oswalk/Dir/*.txt')\n",
        "for file in files:\n",
        "  print(file)"
      ],
      "metadata": {
        "id": "cJ0V0Re-rhw1",
        "colab": {
          "base_uri": "https://localhost:8080/"
        },
        "outputId": "c226ff5a-6f3a-4ffd-c942-ad603dadf474"
      },
      "execution_count": null,
      "outputs": [
        {
          "output_type": "stream",
          "name": "stdout",
          "text": [
            "oswalk/Dir/Dir2.txt\n",
            "oswalk/Dir/Dir1.txt\n"
          ]
        }
      ]
    },
    {
      "cell_type": "markdown",
      "source": [
        "# 檔案的讀寫"
      ],
      "metadata": {
        "id": "Myqt0buWD5yc"
      }
    },
    {
      "cell_type": "markdown",
      "source": [
        "### 語法：\n",
        "> open(檔案名稱[,模式][,編碼])  \n",
        "> 檔案名稱：設定檔案的名稱，它是字串型態。  \n",
        "> 模式：設定檔案開啟的模式，省略將預設為讀取模式。  \n",
        "> r\t讀取模式，此為預設模式。  \n",
        "> w\t寫入模式，若檔案已存在，內容將會被覆蓋。  \n",
        "> a\t附加模式，若檔案已存在，內容會被附加至檔案尾端。  \n",
        "> 編碼：指定檔案的編碼模式，一般可設定cp950或UTF-8 (大小寫都可以)。\n",
        "\n",
        "\n"
      ],
      "metadata": {
        "id": "rg2Q7T7fFJZO"
      }
    },
    {
      "cell_type": "markdown",
      "source": [
        "#### 查看檔案的編碼"
      ],
      "metadata": {
        "id": "LekgAFNmJ67u"
      }
    },
    {
      "cell_type": "code",
      "source": [
        "#查看檔案的編碼\n",
        "import locale\n",
        "locale.getpreferredencoding()"
      ],
      "metadata": {
        "id": "4DFDRfCvm3EP"
      },
      "execution_count": null,
      "outputs": []
    },
    {
      "cell_type": "markdown",
      "source": [
        "## 文字檔案的讀寫"
      ],
      "metadata": {
        "id": "KBjsC4bYmMWX"
      }
    },
    {
      "cell_type": "code",
      "source": [
        "# 寫入檔案\n",
        "content='''Hello Python\n",
        "中文測試\n",
        "Welcome\n",
        "'''\n"
      ],
      "metadata": {
        "id": "GuivTAqEl59w"
      },
      "execution_count": null,
      "outputs": []
    },
    {
      "cell_type": "code",
      "source": [
        "# 讀取檔案\n"
      ],
      "metadata": {
        "id": "RkdwKsaynWcQ"
      },
      "execution_count": null,
      "outputs": []
    },
    {
      "cell_type": "code",
      "source": [
        "# 使用 with open \n"
      ],
      "metadata": {
        "id": "oEb_Qg-7peIX"
      },
      "execution_count": null,
      "outputs": []
    },
    {
      "cell_type": "markdown",
      "source": [
        "###範例：求各列數字的總和"
      ],
      "metadata": {
        "id": "SAJYm2eXK4pC"
      }
    },
    {
      "cell_type": "code",
      "source": [
        "# 寫入 2\\n4\\n6 字串，計算數字和\n",
        "with open(\"data1.txt\",\"w\",encoding=\"utf-8\") as f:\n",
        "  f.write(\"2\\n4\\n6\")\n",
        "\n"
      ],
      "metadata": {
        "id": "i-YMxFvqLO7T"
      },
      "execution_count": null,
      "outputs": []
    },
    {
      "cell_type": "markdown",
      "source": [
        "### 範例：移動到指定的的位置，讀取一列或n個字元。"
      ],
      "metadata": {
        "id": "YrhNgxTLYHE0"
      }
    },
    {
      "cell_type": "code",
      "source": [
        "# read、realline\n",
        "f=open(\"file1.txt\",\"r\",encoding=\"utf-8\")\n",
        "f.seek(0)  # 移至開始的位置\n",
        "print(f.tell())\n",
        "line1=f.readline() # 讀取一列\n",
        "print(line1)\n",
        "print(f.tell())\n",
        "\n",
        "data=f.read(5) # 讀取5個字元\n",
        "print(data)\n",
        "\n",
        "data=f.read()  # 讀取剩下的內容\n",
        "print(data)\n",
        "f.close()"
      ],
      "metadata": {
        "id": "6H9w7dl0rQyP"
      },
      "execution_count": null,
      "outputs": []
    },
    {
      "cell_type": "markdown",
      "source": [
        "## 二進位檔案的讀寫"
      ],
      "metadata": {
        "id": "IwOgvdqOcCMT"
      }
    },
    {
      "cell_type": "code",
      "source": [
        "# 寫入二進位檔案\n",
        "content='''Hello Python\n",
        "中文測試\n",
        "Welcome\n",
        "'''\n"
      ],
      "metadata": {
        "id": "V7tNI7azcIeT"
      },
      "execution_count": null,
      "outputs": []
    },
    {
      "cell_type": "code",
      "source": [
        "# 讀取二進位檔案\n"
      ],
      "metadata": {
        "id": "TdmliBBFcqtC"
      },
      "execution_count": null,
      "outputs": []
    },
    {
      "cell_type": "markdown",
      "source": [
        "### 二進位檔案的應用"
      ],
      "metadata": {
        "id": "nJNtQqeJ92fS"
      }
    },
    {
      "cell_type": "code",
      "source": [
        "# 二進位檔案的應用\n",
        "import requests\n",
        "url = \"https://www.google.com/images/branding/googlelogo/2x/googlelogo_color_272x92dp.png\"\n",
        "# 抓取圖片\n",
        ")\n",
        "# 存成檔案\n"
      ],
      "metadata": {
        "id": "pbThxOX-htUc"
      },
      "execution_count": null,
      "outputs": []
    },
    {
      "cell_type": "markdown",
      "source": [
        "# 例外處理"
      ],
      "metadata": {
        "id": "6X_VRgTxEDg1"
      }
    },
    {
      "cell_type": "markdown",
      "source": [
        "## try…except 的語法  \n",
        "## try…   \n",
        "## except…   \n",
        "## else…   \n",
        "## finally  "
      ],
      "metadata": {
        "id": "l54bqXJyfP4N"
      }
    },
    {
      "cell_type": "code",
      "source": [
        "# 語法測試、練習\n"
      ],
      "metadata": {
        "id": "l3CnnPo7J6xs"
      },
      "execution_count": null,
      "outputs": []
    },
    {
      "cell_type": "code",
      "source": [
        "try:\n",
        "  f=open(\"f1.txt\",\"r\")\n",
        "except FileNotFoundError as  e:\n",
        "  print(\"file no exist\")"
      ],
      "metadata": {
        "id": "BcV8rsNvJA-e"
      },
      "execution_count": null,
      "outputs": []
    },
    {
      "cell_type": "markdown",
      "source": [
        "## try…except常用例外錯誤表  \n",
        "> AttributeError\t物件無此屬性。  \n",
        "> Exception\t所有的錯誤。  \n",
        "> FileNotFoundError\topen()開啟檔案時找不檔案的錯誤。  \n",
        "> IOError\t輸入/ 輸出錯誤。  \n",
        "> ZeroDivisionError\t除數為0的錯誤。\n"
      ],
      "metadata": {
        "id": "c190vqCx9qFv"
      }
    },
    {
      "cell_type": "markdown",
      "source": [
        "## 範例：捕捉非數值資料和除數為0的錯誤"
      ],
      "metadata": {
        "id": "rtvHjjX9L_Z_"
      }
    },
    {
      "cell_type": "code",
      "source": [
        "try:\n",
        "  a=int(input(\"a=\"))\n",
        "  b=int(input(\"b=\"))\n",
        "  r=a % b\n",
        "\n",
        "\n",
        "\n",
        "finally:\n",
        "  print(\"一定會執行的區塊\")"
      ],
      "metadata": {
        "id": "ZZZYT3oLGaFL"
      },
      "execution_count": null,
      "outputs": []
    },
    {
      "cell_type": "markdown",
      "source": [
        "# 物件和類別"
      ],
      "metadata": {
        "id": "ySJg_LWlxy4H"
      }
    },
    {
      "cell_type": "markdown",
      "source": [
        "## 內建整數類別"
      ],
      "metadata": {
        "id": "hMpreKdNX6ca"
      }
    },
    {
      "cell_type": "code",
      "source": [
        "# 內建類別建立物件\n",
        "a=1\n",
        "b=2\n",
        "print(type(a))\n",
        "print(type(b))"
      ],
      "metadata": {
        "id": "TpUCdqPzybiH"
      },
      "execution_count": null,
      "outputs": []
    },
    {
      "cell_type": "markdown",
      "source": [
        "## 定義類別"
      ],
      "metadata": {
        "id": "Swts6TxrYCAT"
      }
    },
    {
      "cell_type": "code",
      "source": [
        "# 定義類別\n",
        "class A():\n",
        "  def hello(self): #方法\n",
        "    print('Hello')\n",
        "  def __init__(self,name): #建構式[第一個執行,不一定要在第一個位置]\n",
        "    self.name=name\n",
        "a=A('Tom')\n",
        "print(a.name)\n",
        "a.hello()\n",
        "b=A('Lily')\n",
        "print(b.name)\n",
        "b.hello()\n",
        "\n",
        "class B(A): #繼承A的類別\n",
        "  pass\n",
        "b=B('test')\n",
        "b.name\n",
        "# 建立物件\n",
        "\n",
        "# 建立第二個物件\n"
      ],
      "metadata": {
        "id": "M6IiokqByaRo",
        "colab": {
          "base_uri": "https://localhost:8080/",
          "height": 105
        },
        "outputId": "877ea841-ebe7-4927-e1af-19bc965c48f1"
      },
      "execution_count": null,
      "outputs": [
        {
          "output_type": "stream",
          "name": "stdout",
          "text": [
            "Tom\n",
            "Hello\n",
            "Lily\n",
            "Hello\n"
          ]
        },
        {
          "output_type": "execute_result",
          "data": {
            "text/plain": [
              "'test'"
            ],
            "application/vnd.google.colaboratory.intrinsic+json": {
              "type": "string"
            }
          },
          "metadata": {},
          "execution_count": 12
        }
      ]
    },
    {
      "cell_type": "code",
      "source": [
        "class Person():\n",
        "  name = 'David'\n",
        "  age = 30\n",
        "  def hello(self):\n",
        "    print('Hello')\n",
        "person1 = Person() #建立物件\n",
        "print(person1.name,person1.age)\n",
        "person2 = Person() #建立第二個物件\n",
        "print(person2.name,person2.age)\n",
        "person2.hello()"
      ],
      "metadata": {
        "id": "QhJyPibRFE0P",
        "colab": {
          "base_uri": "https://localhost:8080/"
        },
        "outputId": "0e6720a4-5c80-4d6a-8765-224cf9e1985d"
      },
      "execution_count": null,
      "outputs": [
        {
          "output_type": "stream",
          "name": "stdout",
          "text": [
            "David 30\n",
            "David 30\n",
            "Hello\n"
          ]
        }
      ]
    },
    {
      "cell_type": "markdown",
      "source": [
        "### 建構式"
      ],
      "metadata": {
        "id": "qbTw_Oa1YPJS"
      }
    },
    {
      "cell_type": "code",
      "source": [
        "from typing import AsyncGenerator\n",
        "class Person():\n",
        "  def __init__(self,name,age):\n",
        "    self.name=name\n",
        "    self.age=age\n",
        "person1=Person('David',30)\n",
        "print(person1.name,person1.age)\n",
        "person2=Person('Lily',20)\n",
        "print(person2.name,person2.age)\n",
        "    "
      ],
      "metadata": {
        "colab": {
          "base_uri": "https://localhost:8080/"
        },
        "id": "25qnAFTObfV3",
        "outputId": "07bd6514-1d80-4e3f-aece-e7d9afd82bc9"
      },
      "execution_count": null,
      "outputs": [
        {
          "output_type": "stream",
          "name": "stdout",
          "text": [
            "David 30\n",
            "Lily 20\n"
          ]
        }
      ]
    },
    {
      "cell_type": "markdown",
      "source": [
        "### 參數預設值"
      ],
      "metadata": {
        "id": "js5mb8_rYnFz"
      }
    },
    {
      "cell_type": "code",
      "source": [
        "class Person():\n",
        "  def __init__(self,name=\"小明\",age=18):\n",
        "    self.name=name\n",
        "    self.age=age\n",
        "  def hello(self):\n",
        "    print(self.name + \"說哈囉\")\n",
        "\n",
        "# 建立物件\n",
        "person1=Person(\"David\",30)\n",
        "print(person1.name)  \n",
        "print(person1.age) \n",
        "person1.hello()\n",
        "# 建立第二個物件\n",
        "person2=Person()\n",
        "print(person2.name)\n",
        "print(person2.age)\n",
        "person2.hello()"
      ],
      "metadata": {
        "id": "j-hMeRSWtH9B",
        "colab": {
          "base_uri": "https://localhost:8080/"
        },
        "outputId": "f9de799e-7b3b-480d-dc30-b76bf0fc357c"
      },
      "execution_count": null,
      "outputs": [
        {
          "output_type": "stream",
          "name": "stdout",
          "text": [
            "David\n",
            "30\n",
            "David說哈囉\n",
            "小明\n",
            "18\n",
            "小明說哈囉\n"
          ]
        }
      ]
    },
    {
      "cell_type": "markdown",
      "source": [
        "### 練習\n",
        "建立類別求矩形的面積"
      ],
      "metadata": {
        "id": "ekBi0DkpvbLx"
      }
    },
    {
      "cell_type": "code",
      "source": [
        "class Rectangle():\n",
        "  def __init__(self,width=0,height=0):\n",
        "    self.width=width\n",
        "    self.height=height\n",
        "  def area(self):\n",
        "    return self.width * self.height\n",
        "rec=Rectangle(5,6)\n",
        "print(rec.area())"
      ],
      "metadata": {
        "id": "_f3k_nEhtlYX",
        "colab": {
          "base_uri": "https://localhost:8080/"
        },
        "outputId": "3a0e0904-59c3-4be7-f09c-3b295964ade5"
      },
      "execution_count": null,
      "outputs": [
        {
          "output_type": "stream",
          "name": "stdout",
          "text": [
            "30\n"
          ]
        }
      ]
    },
    {
      "cell_type": "markdown",
      "source": [
        "## 類別封裝"
      ],
      "metadata": {
        "id": "LQv8JFnyyQDo"
      }
    },
    {
      "cell_type": "code",
      "source": [
        "class Bank():\n",
        "  def __init__(self,money):\n",
        "    self.__money=money #總存款 __代表封裝廣域變數不可使用 \n",
        "  def show(self): #顯示總存款\n",
        "    return self.__money\n",
        "  def save(self,amount): #存款\n",
        "    self.money+=amount\n",
        "  def fetch(self,amount): #提款\n",
        "    self.money-=amount\n",
        "b=Bank(1000)\n",
        "b.__money=20000\n",
        "b.show()"
      ],
      "metadata": {
        "colab": {
          "base_uri": "https://localhost:8080/"
        },
        "id": "Q3wLDukzhDGU",
        "outputId": "aad4cf57-e251-4cc3-a17f-2f60b5347528"
      },
      "execution_count": null,
      "outputs": [
        {
          "output_type": "execute_result",
          "data": {
            "text/plain": [
              "1000"
            ]
          },
          "metadata": {},
          "execution_count": 9
        }
      ]
    },
    {
      "cell_type": "markdown",
      "source": [
        "###建立私用屬性和方法"
      ],
      "metadata": {
        "id": "vY7X0U6hYcdv"
      }
    },
    {
      "cell_type": "code",
      "source": [
        "# 類別封裝\n",
        "class Person():\n",
        "  def __init__(self,name,age):\n",
        "   self.__name=name\n",
        "   self.age=age  \n",
        "\n",
        "  def __hello(self):\n",
        "    print(self.__name+'Hello')\n",
        "  \n",
        "  def talk(self):\n",
        "    self.__hello()\n",
        "    print(\"Like Python\")\n",
        "\n",
        "person1=Person('David',30)\n",
        "person1.__hello()"
      ],
      "metadata": {
        "id": "WTd3PMtytPvv",
        "colab": {
          "base_uri": "https://localhost:8080/",
          "height": 202
        },
        "outputId": "04c5d638-0cbc-4b66-e446-de92408fab82"
      },
      "execution_count": null,
      "outputs": [
        {
          "output_type": "error",
          "ename": "AttributeError",
          "evalue": "ignored",
          "traceback": [
            "\u001b[0;31m---------------------------------------------------------------------------\u001b[0m",
            "\u001b[0;31mAttributeError\u001b[0m                            Traceback (most recent call last)",
            "\u001b[0;32m<ipython-input-10-8ff8cbf22b9e>\u001b[0m in \u001b[0;36m<module>\u001b[0;34m()\u001b[0m\n\u001b[1;32m     13\u001b[0m \u001b[0;34m\u001b[0m\u001b[0m\n\u001b[1;32m     14\u001b[0m \u001b[0mperson1\u001b[0m\u001b[0;34m=\u001b[0m\u001b[0mPerson\u001b[0m\u001b[0;34m(\u001b[0m\u001b[0;34m'David'\u001b[0m\u001b[0;34m,\u001b[0m\u001b[0;36m30\u001b[0m\u001b[0;34m)\u001b[0m\u001b[0;34m\u001b[0m\u001b[0;34m\u001b[0m\u001b[0m\n\u001b[0;32m---> 15\u001b[0;31m \u001b[0mperson1\u001b[0m\u001b[0;34m.\u001b[0m\u001b[0m__hello\u001b[0m\u001b[0;34m(\u001b[0m\u001b[0;34m)\u001b[0m\u001b[0;34m\u001b[0m\u001b[0;34m\u001b[0m\u001b[0m\n\u001b[0m",
            "\u001b[0;31mAttributeError\u001b[0m: 'Person' object has no attribute '__hello'"
          ]
        }
      ]
    },
    {
      "cell_type": "markdown",
      "source": [
        "## 類別繼承"
      ],
      "metadata": {
        "id": "SWFN0HBJiRa9"
      }
    },
    {
      "cell_type": "markdown",
      "source": [
        "### 建立子類別  \n",
        "> 語法： class 類別名稱(父類別 ):   \n",
        "> 例如： class Son(Person):"
      ],
      "metadata": {
        "id": "D3cVCfJAC7ku"
      }
    },
    {
      "cell_type": "markdown",
      "source": [
        "### 類別繼承範例一\n",
        "覆寫父類別的建構式"
      ],
      "metadata": {
        "id": "BOgLSA6RDmXF"
      }
    },
    {
      "cell_type": "code",
      "source": [
        "# 類別繼承\n",
        "class Person():\n",
        "  def __init__(self,name):\n",
        "    self.name=name\n",
        "  def hello(self):\n",
        "    print(self.name + \"說哈囉\")\n",
        "\n",
        "class Son(Person):\n",
        "  def __init__(self,name): # 覆寫父類別的建構式\n",
        "    self.name = '兒子' + name\n",
        "  def talk(self): # 新增子類別的方法\n",
        "    print(self.name,'會說英文')\n",
        "\n",
        "person1=Person('David') # 建立父類別物件\n",
        "person1.hello()\n",
        "son =Son('joe') # 建立子類別物件\n",
        "son.talk()"
      ],
      "metadata": {
        "id": "eF7SFQYytPzP",
        "colab": {
          "base_uri": "https://localhost:8080/"
        },
        "outputId": "610ecbb9-7814-4789-eb64-180ed6279002"
      },
      "execution_count": null,
      "outputs": [
        {
          "output_type": "stream",
          "name": "stdout",
          "text": [
            "David說哈囉\n",
            "兒子joe 會說英文\n"
          ]
        }
      ]
    },
    {
      "cell_type": "markdown",
      "source": [
        "### 類別繼承範例二\n",
        "執行super()方法"
      ],
      "metadata": {
        "id": "jRYd-_WXfyy0"
      }
    },
    {
      "cell_type": "code",
      "source": [
        "# 使用 super() 方法執行父類別的方法\n",
        "class Person():\n",
        "  def __init__(self,name):\n",
        "    self.name=name\n",
        "  def hello(self):\n",
        "    print(self.name + \"說哈囉\")\n",
        "\n",
        "class Son(Person):\n",
        "  # 覆寫父類別的建構式\n",
        "  def __init__(self,name):\n",
        "    super().__init__(name) #透過super()執行父類別\n",
        "  # 新增子類別的方法\n",
        "  def talk(self):\n",
        "    super().hello()\n",
        "    print(self.name + \"也會說英語\")    \n",
        "\n",
        "# 建立父類別物件\n",
        "person1=Person(\"David\")\n",
        "person1.hello()\n",
        "# 建立子類別物件\n",
        "son=Son(\"joe\")\n",
        "son.talk()"
      ],
      "metadata": {
        "id": "_GSsDqH5NqS6"
      },
      "execution_count": null,
      "outputs": []
    },
    {
      "cell_type": "markdown",
      "source": [
        "## 多型"
      ],
      "metadata": {
        "id": "EVW8f1NQGXMq"
      }
    },
    {
      "cell_type": "code",
      "source": [
        "# 多重繼承和多型\n",
        "class Father():         #定義父類別         \n",
        "    def say(self):      #定義共用方法 \n",
        "        print(\"明天會更好!\")\n",
        "        \n",
        "class Mother():         #定義父類別  \n",
        "    def say(self):      #定義共用方法 \n",
        "        print(\"包容、尊重!\")\n",
        "        \n",
        "class Child(Father,Mother): #定義子類別 依繼承順序決定共同方法,若自己也有共同方法則輸出自己的\n",
        "    pass\n",
        "        \n",
        "child = Child() #建立 child 物件\n",
        "child.say()     #明天會更好! "
      ],
      "metadata": {
        "id": "v4_pE9gBGgyT",
        "colab": {
          "base_uri": "https://localhost:8080/"
        },
        "outputId": "0a443270-afd6-4ed1-9718-b5ab7dc32461"
      },
      "execution_count": null,
      "outputs": [
        {
          "output_type": "stream",
          "name": "stdout",
          "text": [
            "明天會更好!\n"
          ]
        }
      ]
    },
    {
      "cell_type": "markdown",
      "source": [
        "## 類別應用"
      ],
      "metadata": {
        "id": "ihUXDjgwiiD8"
      }
    },
    {
      "cell_type": "code",
      "source": [
        "# 建立矩形類別求矩形面積、三角形類別繼承矩形類別求三角形面積\n",
        "class Rectangle():\n",
        "  def __init__(self,width,height):\n",
        "    self.width=width\n",
        "    self.height=height\n",
        "  def area(self):\n",
        "    return self.width * self.height\n",
        "\n",
        "class Triangle(Rectangle):\n",
        "  def area2(self):\n",
        "    return super().area()/2\n",
        "\n",
        "rec=Rectangle(5,6)\n",
        "print('矩形面積=',rec.area())\n",
        "tri=Triangle(5,6)\n",
        "print(tri.area())\n",
        "print(tri.area2())"
      ],
      "metadata": {
        "id": "fS0AS4bAjE5b",
        "colab": {
          "base_uri": "https://localhost:8080/"
        },
        "outputId": "268c6e8d-17b2-430e-b0e2-703b6206782a"
      },
      "execution_count": null,
      "outputs": [
        {
          "output_type": "stream",
          "name": "stdout",
          "text": [
            "矩形面積= 30\n",
            "30\n",
            "15.0\n"
          ]
        }
      ]
    },
    {
      "cell_type": "markdown",
      "source": [
        "# 建立 Python 專案"
      ],
      "metadata": {
        "id": "q4vUZOzbiq-S"
      }
    },
    {
      "cell_type": "markdown",
      "source": [
        "## 準備工作"
      ],
      "metadata": {
        "id": "XVWR3PTqFdXV"
      }
    },
    {
      "cell_type": "code",
      "source": [
        "# 依網址從瀏覽器下載 day3範例檔.zip \n",
        "# 並解壓縮至自建立工作目錄(例如：C:\\day3)\n",
        "https://drive.google.com/file/d/1kN285dn58eES93G-OUSNQ-T6kZf5p1SZ/view?usp=sharing"
      ],
      "metadata": {
        "id": "OektJIsA7Cab"
      },
      "execution_count": null,
      "outputs": []
    },
    {
      "cell_type": "markdown",
      "source": [
        "## 使用 Spyder 開啟專案"
      ],
      "metadata": {
        "id": "yTCA0jzmwvnU"
      }
    },
    {
      "cell_type": "code",
      "source": [
        "# 開啟 projectHello 專案"
      ],
      "metadata": {
        "id": "a-neHOnwF7C1"
      },
      "execution_count": null,
      "outputs": []
    },
    {
      "cell_type": "markdown",
      "source": [
        "## 使用 Spyder 建立新的專案"
      ],
      "metadata": {
        "id": "cwlY0DxIFr81"
      }
    },
    {
      "cell_type": "code",
      "source": [
        "# myprojectHello 專案"
      ],
      "metadata": {
        "id": "cipuahjPjFdj"
      },
      "execution_count": null,
      "outputs": []
    },
    {
      "cell_type": "markdown",
      "source": [
        "## 建立含有類別的專案"
      ],
      "metadata": {
        "id": "SKhlm932xaa7"
      }
    },
    {
      "cell_type": "code",
      "source": [
        "# myprojectArea 專案"
      ],
      "metadata": {
        "id": "cIw5kqGNz67c"
      },
      "execution_count": null,
      "outputs": []
    },
    {
      "cell_type": "markdown",
      "source": [
        "# 打造自己的模組"
      ],
      "metadata": {
        "id": "YuGoFq7ni1g8"
      }
    },
    {
      "cell_type": "markdown",
      "source": [
        "### 準備工作"
      ],
      "metadata": {
        "id": "mfXaGafT0PUr"
      }
    },
    {
      "cell_type": "code",
      "source": [
        "# module-1.py\n",
        "def add(n1,n2):\n",
        "    return n1+n2\n",
        "    \n",
        "def sub(n1,n2):\n",
        "    return n1-n2\n",
        "\n",
        "print(add(5,2))  # 7\n",
        "print(sub(5,2))  # 3"
      ],
      "metadata": {
        "id": "eEwLldUHDn_V"
      },
      "execution_count": null,
      "outputs": []
    },
    {
      "cell_type": "markdown",
      "source": [
        "### 打造自己的模組"
      ],
      "metadata": {
        "id": "sr-8KYsq1LCj"
      }
    },
    {
      "cell_type": "code",
      "source": [
        "# calculate.py\n",
        "def add(n1,n2):\n",
        "    return n1+n2\n",
        "    \n",
        "def sub(n1,n2):\n",
        "    return n1-n2"
      ],
      "metadata": {
        "id": "dV-LOeIpD77l"
      },
      "execution_count": null,
      "outputs": []
    },
    {
      "cell_type": "markdown",
      "source": [
        "### 匯入自己建立的模組\n",
        "> module-2.py、module-3.py、module-4.py  \n",
        "> module-5.py、module-6.py、module-7.py"
      ],
      "metadata": {
        "id": "t7I6KTmH1LIs"
      }
    },
    {
      "cell_type": "code",
      "source": [
        "# module-2.py\n",
        "import calculate  # 匯入 calculate 模組\n",
        "\n",
        "print(calculate.add(5,2))  # 7\n",
        "print(calculate.sub(5,2))  # 3"
      ],
      "metadata": {
        "id": "YfywbgneEHk1"
      },
      "execution_count": null,
      "outputs": []
    },
    {
      "cell_type": "code",
      "source": [
        "# module-3.py\n",
        "from calculate import add,sub # 匯入模組內函式\n",
        "\n",
        "print(add(5,2))  # 7\n",
        "print(sub(5,2))  # 3"
      ],
      "metadata": {
        "id": "w1nKC9DfEdEs"
      },
      "execution_count": null,
      "outputs": []
    },
    {
      "cell_type": "code",
      "source": [
        "# module-4.py\n",
        "from calculate import add\n",
        "\n",
        "print(add(5,2))  # 7\n",
        "print(sub(5,2))  # NameError: name 'sub' is not defined"
      ],
      "metadata": {
        "id": "eqtl0xZiE2Ft"
      },
      "execution_count": null,
      "outputs": []
    },
    {
      "cell_type": "code",
      "source": [
        "# module-5.py\n",
        "from calculate import *\n",
        "\n",
        "print(add(5,2))  # 7\n",
        "print(sub(5,2))  # 3"
      ],
      "metadata": {
        "id": "49RbK7ncE2KU"
      },
      "execution_count": null,
      "outputs": []
    },
    {
      "cell_type": "code",
      "source": [
        "# module-6.py\n",
        "from calculate import add as a\n",
        "\n",
        "print(a(5,2))  # 7"
      ],
      "metadata": {
        "id": "gk4B5qsgFJJV"
      },
      "execution_count": null,
      "outputs": []
    },
    {
      "cell_type": "code",
      "source": [
        "# module-7.py\n",
        "import calculate as cal # 匯入 calculate 模組，並取別名為 cal\n",
        "\n",
        "print(cal.add(5,2))  # 7\n",
        "print(cal.sub(5,2))  # 3"
      ],
      "metadata": {
        "id": "PUscTCpnFJNl"
      },
      "execution_count": null,
      "outputs": []
    },
    {
      "cell_type": "markdown",
      "source": [
        "### 將自建專案存成多個模組"
      ],
      "metadata": {
        "id": "cuRFh6sf1LVb"
      }
    },
    {
      "cell_type": "code",
      "source": [
        "# myprojectArea2 專案 \n",
        "# Rectangle.py、Triangle.py、index.py"
      ],
      "metadata": {
        "id": "zBGqtq9ujF6c"
      },
      "execution_count": null,
      "outputs": []
    },
    {
      "cell_type": "code",
      "source": [
        "# Rectangle.py\n",
        "class Rectangle:\n",
        "    def __init__(self,width,height):\n",
        "        self.width=width\n",
        "        self.height=height\n",
        "    def area(self):\n",
        "        return self.width * self.height"
      ],
      "metadata": {
        "id": "3LIgyBcxFZI8"
      },
      "execution_count": null,
      "outputs": []
    },
    {
      "cell_type": "code",
      "source": [
        "# Triangle.py\n",
        "from area2package.Rectangle import Rectangle\n",
        "\n",
        "class Triangle(Rectangle):\n",
        "    def area2(self):\n",
        "        return super().area() /2"
      ],
      "metadata": {
        "id": "d3SnJXZIFZLz"
      },
      "execution_count": null,
      "outputs": []
    },
    {
      "cell_type": "code",
      "source": [
        "# index.py\n",
        "from area2package.Rectangle import Rectangle\n",
        "from area2package.Triangle import Triangle\n",
        "\n",
        "rec = Rectangle(5,6)\n",
        "print(rec.area())\n",
        "\n",
        "tri= Triangle(5,6)\n",
        "print(tri.area())\n",
        "print(tri.area2())"
      ],
      "metadata": {
        "id": "8DTBrtybFZPM"
      },
      "execution_count": null,
      "outputs": []
    }
  ]
}