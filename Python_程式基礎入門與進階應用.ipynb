{
  "nbformat": 4,
  "nbformat_minor": 0,
  "metadata": {
    "colab": {
      "name": "Python 程式基礎入門與進階應用.ipynb",
      "provenance": [],
      "collapsed_sections": [],
      "toc_visible": true,
      "authorship_tag": "ABX9TyON2ICnCIX0oQX7J6SdAtSd",
      "include_colab_link": true
    },
    "kernelspec": {
      "name": "python3",
      "display_name": "Python 3"
    },
    "language_info": {
      "name": "python"
    }
  },
  "cells": [
    {
      "cell_type": "markdown",
      "metadata": {
        "id": "view-in-github",
        "colab_type": "text"
      },
      "source": [
        "<a href=\"https://colab.research.google.com/github/xuzhenting/Notebooks/blob/main/Python_%E7%A8%8B%E5%BC%8F%E5%9F%BA%E7%A4%8E%E5%85%A5%E9%96%80%E8%88%87%E9%80%B2%E9%9A%8E%E6%87%89%E7%94%A8.ipynb\" target=\"_parent\"><img src=\"https://colab.research.google.com/assets/colab-badge.svg\" alt=\"Open In Colab\"/></a>"
      ]
    },
    {
      "cell_type": "markdown",
      "source": [
        "# Markdown語法教學\n",
        "## 標題\n",
        "### 標題\n",
        "#### 標題\n",
        "##### 標題\n",
        "###### 標題\n",
        "\n",
        "*斜體*內文內文內文內文**粗體**內文內文***粗斜體***內文\n",
        "\n",
        "---\n",
        "\n",
        "內文`網底`內文內文內文內文內文內文內文內文\n",
        "\n",
        "---\n",
        "\n",
        "1. 編號\n",
        "2. 編號\n",
        "3. 編號\n",
        "4. 編號\n",
        "\n",
        "* 項目\n",
        "* 項目\n",
        "\n",
        ">技巧  \n",
        "12345678901234567890123456789012345678901234567890123456789012345678901234567890123456789012345678901234567890\n",
        "\n",
        "```Python\n",
        "print(\"Hello\")\n",
        "print(\"1234\")\n",
        "```\n",
        "\n",
        "    print(\"Hello\")\n",
        "    print(\"1234\")\n",
        "    print(\"Hi!!!!\")\n",
        "    print(\"5678\")\n",
        "\n",
        "https://google.com  \n",
        "[Google官網](https://google.com)  \n",
        "Google官網\n",
        "\n",
        "[![Google官網](https://www.google.com/images/branding/googlelogo/1x/googlelogo_color_272x92dp.png)](https://google.com)\n",
        "\n",
        "\n",
        "[![Google官網](https://www.google.com/images/branding/googlelogo/1x/googlelogo_color_272x92dp.png)](https://google.com \"Google官網\")\n"
      ],
      "metadata": {
        "id": "dpads09gfV8w"
      }
    },
    {
      "cell_type": "code",
      "source": [
        "print(\"Hello!!!!\")"
      ],
      "metadata": {
        "id": "UKyHq32bdk-c"
      },
      "execution_count": null,
      "outputs": []
    },
    {
      "cell_type": "markdown",
      "source": [
        "# 變數與資料型態\n"
      ],
      "metadata": {
        "id": "giPTVXyjI63g"
      }
    },
    {
      "cell_type": "code",
      "source": [
        "# 變數的宣告與輸出\n",
        "x = 0 \n",
        "y = 1\n",
        "a = b = c = 0\n",
        "name , age = \"Devid\" , 18\n",
        "\n",
        "print(x, y, a, b, c, name, age)\n"
      ],
      "metadata": {
        "id": "yjr51L11JR-0"
      },
      "execution_count": null,
      "outputs": []
    },
    {
      "cell_type": "code",
      "source": [
        "# 變數的資料型態\n",
        "# int, float, str, bool\n",
        "# type() 檢視變數的資料型態\n",
        "\n",
        "x = 1\n",
        "pi = 3.14159\n",
        "name = \"David\"\n",
        "isMarry = False\n",
        "\n",
        "# print(x, pi, name, isMarry)\n",
        "print(type(x))\n",
        "print(type(name))\n",
        "print(type(isMarry))\n",
        "\n",
        "# 資料型別的轉換\n",
        "# int(), float(), str(), bool()"
      ],
      "metadata": {
        "id": "yG0eMr_wJ32E"
      },
      "execution_count": null,
      "outputs": []
    },
    {
      "cell_type": "markdown",
      "source": [
        "# 輸出與輸入\n",
        "\n"
      ],
      "metadata": {
        "id": "3ZCtqOH9PDka"
      }
    },
    {
      "cell_type": "markdown",
      "source": [
        "## 輸出：print()"
      ],
      "metadata": {
        "id": "o8RZefs8OThp"
      }
    },
    {
      "cell_type": "code",
      "source": [
        "# print()\n",
        "# ptinr()參數\n",
        "# sep 間隔符號,預設值 ' '\n",
        "# end 結束符號,預設值 '\\n'\n",
        "\n",
        "print(1,2,3,3.14,'David',True)\n",
        "print(1,2,3,4,5,sep='&')\n",
        "print(1,2,3,4,5,sep='&',end='.')\n",
        "\n",
        "print(1,2,3,4,5,)\n"
      ],
      "metadata": {
        "id": "YUakVxNxPMYH"
      },
      "execution_count": null,
      "outputs": []
    },
    {
      "cell_type": "code",
      "source": [
        "# print()參數格式化 : %\n",
        "print(\"考試80分\")\n",
        "print(\"%s考試%d分\"%(\"曉明\",80))\n",
        "print(\"%s考試%d分\"%(\"奇奇\",90))\n",
        "print(\"%5s考試%3d分\"%(\"蒂蒂\",90))\n",
        "print(\"%5s考試%-3d分\"%(\"小可\",90))\n",
        "print(\"圓周率是%.2f\"%(3.14159))"
      ],
      "metadata": {
        "id": "V__7pgPDQOf3"
      },
      "execution_count": null,
      "outputs": []
    },
    {
      "cell_type": "code",
      "source": [
        "# print()參數格式化 : format()\n",
        "# 冒號[:]之前是索引冒號[:]之後是格式\n",
        "print(\"小明考試80分\")\n",
        "print(\"{}考試{}分\".format(\"小明\",80))\n",
        "print(\"考試{1}分的人是{0}\".format(\"小明\",80))\n",
        "print(\"{:5}考試{:3}分\".format(\"小明\",80))\n",
        "print(\"{:>5}考試{:<3}分\".format(\"小明\",80)) #>靠右 <靠左 ^置中\n",
        "print(\"{:^5}考試{:^3}分\".format(\"小明\",80))\n",
        "print(\"圓周率是{:.2f}\".format(3.14159)) #.2f 符點數後兩位"
      ],
      "metadata": {
        "id": "zXh9X3wOSoWs"
      },
      "execution_count": null,
      "outputs": []
    },
    {
      "cell_type": "code",
      "source": [
        "# f-strings\n",
        "name = '曉明'\n",
        "score = 80\n",
        "# print(name+\"考試\"+str(score)+\"分\")\n",
        "print(f\"{name}考試{score}分\")\n",
        "print(f\"{name:^5}考試{score:<3}分\")\n",
        "\n",
        "x = 2\n",
        "y = 5\n",
        "print(f\"{x} * {y} = {x * y}\")"
      ],
      "metadata": {
        "id": "aBbEAVazVjws"
      },
      "execution_count": null,
      "outputs": []
    },
    {
      "cell_type": "markdown",
      "source": [
        "## 輸入：input()"
      ],
      "metadata": {
        "id": "DZ29KW7VOdn8"
      }
    },
    {
      "cell_type": "code",
      "source": [
        "score = input(\"請輸入成績：\")\n",
        "# print(f\"成績{score}\")\n",
        "print(\"成績：{}\".format(score))"
      ],
      "metadata": {
        "id": "L1X0nEcxHHGW"
      },
      "execution_count": null,
      "outputs": []
    },
    {
      "cell_type": "code",
      "source": [
        "score1 = input(\"請輸入英文成績：\")\n",
        "score2 = input(\"請輸入國文成績：\")\n",
        "print(\"總分:{}\".format(int(score1)+int(score2)))"
      ],
      "metadata": {
        "id": "YRQhISKBIcw9"
      },
      "execution_count": null,
      "outputs": []
    },
    {
      "cell_type": "markdown",
      "source": [
        "## 註解"
      ],
      "metadata": {
        "id": "tbnRQNEOLURU"
      }
    },
    {
      "cell_type": "code",
      "source": [
        "# 註解符號快速鍵 Ctrl + /\n",
        "\n",
        "# 單行註解\n",
        "\n",
        "# 多行註解\n",
        "# 多行註解\n",
        "\n",
        "example = \"\"\"\n",
        "多行註解\n",
        "多行註解\n",
        "\"\"\"\n",
        "\n",
        "print(example) # 變數跨行宣告"
      ],
      "metadata": {
        "id": "gu86kXNfLVTa"
      },
      "execution_count": null,
      "outputs": []
    },
    {
      "cell_type": "markdown",
      "source": [
        "# 運算子"
      ],
      "metadata": {
        "id": "beC5lcEEN4nx"
      }
    },
    {
      "cell_type": "markdown",
      "source": [
        "* 算術運算子 + - * / %(餘) //(商) **(指數)\n",
        "* / 為slash,台灣稱為斜線,中國稱為斜槓\n",
        "* \\ 為back slash,台灣稱為反斜線,中國稱為反斜槓"
      ],
      "metadata": {
        "id": "8DCUZW-yVlHw"
      }
    },
    {
      "cell_type": "code",
      "source": [
        "x = 5\n",
        "y = 2\n",
        "\n",
        "print(x+y,x-y,x*y,x/y)\n",
        "print(x%y,x//y,x**y)"
      ],
      "metadata": {
        "id": "SD8gsOZ5Q1YI"
      },
      "execution_count": null,
      "outputs": []
    },
    {
      "cell_type": "markdown",
      "source": [
        "## 比較運算子\n",
        "== != > >= < <="
      ],
      "metadata": {
        "id": "PiKYcv1DVzCp"
      }
    },
    {
      "cell_type": "code",
      "source": [
        "x=5\n",
        "y=2\n",
        "\n",
        "x == y\n",
        "x != y"
      ],
      "metadata": {
        "id": "y5IZChMgSTck"
      },
      "execution_count": null,
      "outputs": []
    },
    {
      "cell_type": "markdown",
      "source": [
        "## 邏輯運算子 \n",
        "and, or, not"
      ],
      "metadata": {
        "id": "a0qoeng5V9yK"
      }
    },
    {
      "cell_type": "code",
      "source": [
        "x=5\n",
        "y=2\n",
        "\n",
        "# (x==y)and(x>y)\n",
        "# (x==y)or(x>y)\n",
        "# not(x==y)"
      ],
      "metadata": {
        "id": "_rNlMbt1SiIp"
      },
      "execution_count": null,
      "outputs": []
    },
    {
      "cell_type": "markdown",
      "source": [
        "## 複和指定運算子\n",
        "+= -="
      ],
      "metadata": {
        "id": "nfUqHkPdWFRi"
      }
    },
    {
      "cell_type": "code",
      "source": [
        "x=1\n",
        "x=x+1\n",
        "print(x)\n",
        "\n",
        "x=x-1\n",
        "print(x)"
      ],
      "metadata": {
        "id": "vV5STDbjTsc1"
      },
      "execution_count": null,
      "outputs": []
    },
    {
      "cell_type": "markdown",
      "source": [
        "## 範例：溫度轉換器\n",
        "華氏=攝氏*(9/5)+32"
      ],
      "metadata": {
        "id": "NIVWMS1HWxmc"
      }
    },
    {
      "cell_type": "code",
      "source": [
        "C = input(\"請輸入攝氏：\")\n",
        "F = int(C)*(9/5)+32\n",
        "print(\"攝氏{0}度為華氏{1}度\".format(C,F))\n",
        "print(f\"攝氏{C}度為華氏{F}度\")"
      ],
      "metadata": {
        "id": "tXwDxx3kW__V"
      },
      "execution_count": null,
      "outputs": []
    },
    {
      "cell_type": "markdown",
      "source": [
        "## 範例：BMI計算機\n",
        "$BMI=體重(kg)/身高(m) ^ 2$"
      ],
      "metadata": {
        "id": "4_7lEh5KYfEU"
      }
    },
    {
      "cell_type": "code",
      "source": [
        "K = int(input(\"請輸入體重(kg)\"))\n",
        "CM = int(input(\"請輸入身高(cm)\"))\n",
        "BMI = K/(CM/100)**2\n",
        "print(\"身高{}公分,體重{}公斤,BMI值為{:.2f}\".format(CM,K,BMI))\n",
        "print(f\"身高{CM}公分,體重{K}公斤,BMI值為{BMI:.2f}\")"
      ],
      "metadata": {
        "id": "zvN0L_s8YrXt"
      },
      "execution_count": null,
      "outputs": []
    },
    {
      "cell_type": "markdown",
      "source": [
        "# 判斷式"
      ],
      "metadata": {
        "id": "67ho5aSLf2fd"
      }
    },
    {
      "cell_type": "markdown",
      "source": [
        "## 雙向判斷式"
      ],
      "metadata": {
        "id": "zoNu9HyLgX9W"
      }
    },
    {
      "cell_type": "code",
      "source": [
        "score = int(input(\"請輸入成績\"))\n",
        "if score >= 60 :\n",
        "  print(\"Pass\")\n",
        "else :\n",
        "  print(\"Down\")"
      ],
      "metadata": {
        "id": "09kjxPp4f7PE"
      },
      "execution_count": null,
      "outputs": []
    },
    {
      "cell_type": "markdown",
      "source": [
        "## 多項判斷式"
      ],
      "metadata": {
        "id": "jm-NoBL3gmO3"
      }
    },
    {
      "cell_type": "code",
      "source": [
        "score = int(input(\"請輸入成績\"))\n",
        "if score >= 90 :\n",
        "  print(\"A\")\n",
        "elif score >= 80 :\n",
        "  print(\"B\")\n",
        "elif score >= 70 :\n",
        "  print(C)\n",
        "elif score >= 60 :\n",
        "  print(\"D\")\n",
        "else:\n",
        "  print(\"Down\")"
      ],
      "metadata": {
        "id": "Rw5bctvjgpgI"
      },
      "execution_count": null,
      "outputs": []
    },
    {
      "cell_type": "markdown",
      "source": [
        "## 範例：判斷是否為整數"
      ],
      "metadata": {
        "id": "2yMLVvCtk6N6"
      }
    },
    {
      "cell_type": "code",
      "source": [
        "n = input(\"請輸入一個整數\")\n",
        "n.isdigit()\n"
      ],
      "metadata": {
        "id": "oGVJqtE9lYts"
      },
      "execution_count": null,
      "outputs": []
    },
    {
      "cell_type": "markdown",
      "source": [
        "## 範例：判斷奇偶數"
      ],
      "metadata": {
        "id": "FRECTvSFiEeP"
      }
    },
    {
      "cell_type": "code",
      "source": [
        "num = int(input(\"請輸入一個正整數\"))\n",
        "\n",
        "if num%2 == 0 :\n",
        "  print(f\"數字{num}為偶數\")\n",
        "  print(\"數字{}為偶數\".format(num))  \n",
        "else :\n",
        "  print(f\"數字{num}為奇數\")\n",
        "  print(\"數字{}為奇數\".format(num))"
      ],
      "metadata": {
        "id": "cb6sAR__iKUt"
      },
      "execution_count": null,
      "outputs": []
    },
    {
      "cell_type": "markdown",
      "source": [
        "## 範例：判斷閏年-巢狀判斷式\n",
        "西元年若為整百年可被400整除為閏年\n",
        "若不是整百年可被4整除為閏年"
      ],
      "metadata": {
        "id": "pBaIi9GJmPg-"
      }
    },
    {
      "cell_type": "code",
      "source": [
        "year = int(input(\"請輸入西元年\"))\n",
        "\n",
        "if year%100 == 0:\n",
        "  if year%400 == 0:\n",
        "    print(f\"西元{year}年是閏年\")\n",
        "  else:\n",
        "    print(f\"西元{year}年不是閏年\")\n",
        "else:\n",
        "  if year%4 == 0:\n",
        "    print(\"西元{}年為閏年\".format(year))\n",
        "  else:\n",
        "    print(\"西元{}年不是閏年\".format(year))"
      ],
      "metadata": {
        "colab": {
          "base_uri": "https://localhost:8080/"
        },
        "id": "ZK4rYa0Mmugj",
        "outputId": "ae1f5ff1-f826-46ba-a8ca-13491a384df2"
      },
      "execution_count": null,
      "outputs": [
        {
          "output_type": "stream",
          "name": "stdout",
          "text": [
            "請輸入西元年1988\n",
            "西元1988年為閏年\n"
          ]
        }
      ]
    },
    {
      "cell_type": "markdown",
      "source": [
        "## 範例：判斷閏年-多項判斷式"
      ],
      "metadata": {
        "id": "--rrEKFFpmoU"
      }
    },
    {
      "cell_type": "code",
      "source": [
        "year = int(input(\"請輸入西元年\"))\n",
        "\n",
        "if year%100==0 and year%4==0:\n",
        "  print(f\"西元{year}年為閏年\")\n",
        "elif year%100!=0 and year%4==0:\n",
        "  print(f\"西元{year}年為閏年\")\n",
        "else:\n",
        "  print(f\"西元{year}年不是閏年\")"
      ],
      "metadata": {
        "id": "dpsaBjxJpseE"
      },
      "execution_count": null,
      "outputs": []
    },
    {
      "cell_type": "markdown",
      "source": [
        "# 自訂函式"
      ],
      "metadata": {
        "id": "VYmCOTLF7-_1"
      }
    },
    {
      "cell_type": "markdown",
      "source": [
        "## 基本格式"
      ],
      "metadata": {
        "id": "HeBZ6RUb-wZV"
      }
    },
    {
      "cell_type": "code",
      "source": [
        "def Hello():\n",
        "  print(\"Hello\")\n",
        "\n",
        "Hello()\n",
        "Hello()\n"
      ],
      "metadata": {
        "colab": {
          "base_uri": "https://localhost:8080/"
        },
        "id": "I4eGzGKm8Q9I",
        "outputId": "a2cf8569-df37-451c-e7f8-67583ed0f978"
      },
      "execution_count": null,
      "outputs": [
        {
          "output_type": "stream",
          "name": "stdout",
          "text": [
            "Hello\n",
            "Hello\n"
          ]
        }
      ]
    },
    {
      "cell_type": "markdown",
      "source": [
        "## 參數的使用"
      ],
      "metadata": {
        "id": "_9VdAIr8-15g"
      }
    },
    {
      "cell_type": "code",
      "source": [
        "def Hello(name):\n",
        "  print(\"Hello,{}\".format(name))\n",
        "\n",
        "Hello(\"David\")\n",
        "Hello(\"Lily\")"
      ],
      "metadata": {
        "colab": {
          "base_uri": "https://localhost:8080/"
        },
        "id": "QwJ-GFCT9taS",
        "outputId": "95430d6c-300c-4cb3-d76a-39249cc8c040"
      },
      "execution_count": null,
      "outputs": [
        {
          "output_type": "stream",
          "name": "stdout",
          "text": [
            "Hello,David\n",
            "Hello,Lily\n"
          ]
        }
      ]
    },
    {
      "cell_type": "markdown",
      "source": [
        "## 回傳值"
      ],
      "metadata": {
        "id": "mws7Zvd8_evC"
      }
    },
    {
      "cell_type": "code",
      "source": [
        "def Hello(name):\n",
        "  msg = \"Hello,{}.\".format(name)\n",
        "  return msg\n",
        "\n",
        "msg = Hello(\"David\")\n",
        "print(msg)"
      ],
      "metadata": {
        "colab": {
          "base_uri": "https://localhost:8080/"
        },
        "id": "xE3d8uxp_vTh",
        "outputId": "21301c25-a2c9-4614-cc64-a1a237bc317a"
      },
      "execution_count": null,
      "outputs": [
        {
          "output_type": "stream",
          "name": "stdout",
          "text": [
            "Hello,David.\n"
          ]
        }
      ]
    },
    {
      "cell_type": "markdown",
      "source": [
        "## 範例：計算面積  \n",
        "getArea(), 參數 w, h, 回傳值 area  \n",
        "有兩塊地(w,h)為(5,4),(10,5)請計算總面積"
      ],
      "metadata": {
        "id": "_jAQeBvSAtSE"
      }
    },
    {
      "cell_type": "code",
      "source": [
        "def getArea(w,h):\n",
        "  area = w * h\n",
        "  return area\n",
        "\n",
        "A = getArea(5,4)\n",
        "B = getArea(10,5)\n",
        "print(\"總面積為{}\".format(A+B))"
      ],
      "metadata": {
        "colab": {
          "base_uri": "https://localhost:8080/"
        },
        "id": "0EdLiUEIBTRE",
        "outputId": "2c8de274-2501-4daf-8f05-37238d3eb721"
      },
      "execution_count": null,
      "outputs": [
        {
          "output_type": "stream",
          "name": "stdout",
          "text": [
            "總面積為70\n"
          ]
        }
      ]
    },
    {
      "cell_type": "markdown",
      "source": [
        "## 範例：溫度轉換器-函式\n",
        "TF = TC*(9/5)+32"
      ],
      "metadata": {
        "id": "vy3REUpyDQDL"
      }
    },
    {
      "cell_type": "code",
      "source": [
        "def tctotf(TC):\n",
        "  TF = TC*(9/5)+32\n",
        "  return TF\n",
        "\n",
        "TC = float(input(\"請輸入攝氏溫度：\"))\n",
        "TF = tctotf(TC)\n",
        "print(\"攝氏{}度為華氏{}度\".format(TC,TF))\n",
        "print(f\"攝氏{TC}度為華氏{TF}度\")"
      ],
      "metadata": {
        "colab": {
          "base_uri": "https://localhost:8080/"
        },
        "id": "8i60dreLDVv-",
        "outputId": "e5406bb4-04e4-470f-8575-80b1fe3bbbd0"
      },
      "execution_count": null,
      "outputs": [
        {
          "output_type": "stream",
          "name": "stdout",
          "text": [
            "請輸入攝氏溫度：150\n",
            "攝氏150.0度為華氏302.0度\n",
            "攝氏150.0度為華氏302.0度\n"
          ]
        }
      ]
    },
    {
      "cell_type": "markdown",
      "source": [
        "## 範例：BMI計算機-函式  \n",
        "getBMI(),參數 h, w  \n",
        "BMI值 <= 18.5、加訊息\"過瘦\"  \n",
        "BMI值 > 24、加訊息\"過胖\"  \n",
        "BMI值在這之間、加訊息\"正常\"  "
      ],
      "metadata": {
        "id": "sHbbhrLIExiP"
      }
    },
    {
      "cell_type": "code",
      "source": [
        "def getBMI(h,w):\n",
        "  BMI = w/(h/100)**2\n",
        "  return BMI\n",
        "\n",
        "w = int(input(\"請輸入體重(kg)\"))\n",
        "h = int(input(\"請輸入身高(cm)\"))\n",
        "BMI = getBMI(h,w)\n",
        "\n",
        "print(\"身高{}公分,體重{}公斤,BMI值為{:.2f}\".format(h,w,BMI))\n",
        "if BMI <= 18.5:\n",
        "  print(\"過瘦\")\n",
        "elif BMI > 24 :\n",
        "  print(\"過胖\")\n",
        "else:\n",
        "  print(\"標準\")"
      ],
      "metadata": {
        "colab": {
          "base_uri": "https://localhost:8080/"
        },
        "id": "B_9awsAsFh_M",
        "outputId": "e2a54e45-9b15-41a4-b312-0616e04c7556"
      },
      "execution_count": null,
      "outputs": [
        {
          "output_type": "stream",
          "name": "stdout",
          "text": [
            "請輸入體重(kg)50\n",
            "請輸入身高(cm)150\n",
            "身高150公分,體重50公斤,BMI值為22.22\n",
            "正常\n"
          ]
        }
      ]
    },
    {
      "cell_type": "markdown",
      "source": [
        "# 串列與整數串列"
      ],
      "metadata": {
        "id": "HGFL-uhbK8Om"
      }
    },
    {
      "cell_type": "markdown",
      "source": [
        "## 串列"
      ],
      "metadata": {
        "id": "jkbN4hE5WZzq"
      }
    },
    {
      "cell_type": "code",
      "source": [
        "# 宣告串列的方式\n",
        "list1 = [1,2,3,4,5,6,7,8,9]\n",
        "list2 = [\"Apple\",\"Banana\",\"Cherry\"]\n",
        "list3 = [\"David\",180,80,24.61,True]\n",
        "# 查詢資料型別\n",
        "type(list1)\n",
        "type(list2)\n",
        "type(list3)"
      ],
      "metadata": {
        "colab": {
          "base_uri": "https://localhost:8080/"
        },
        "id": "ZjEQ9StRMNjb",
        "outputId": "0db46105-83d1-4400-bd51-e15950d2ea05"
      },
      "execution_count": null,
      "outputs": [
        {
          "output_type": "execute_result",
          "data": {
            "text/plain": [
              "list"
            ]
          },
          "metadata": {},
          "execution_count": 56
        }
      ]
    },
    {
      "cell_type": "code",
      "source": [
        "# 串列取值-使用索引值\n",
        "list1 = [1,2,3,4,5,6,7,8,9]\n",
        "\n",
        "# 取出單一的元素值\n",
        "# 格式：串列[索引值]\n",
        "list1[2]\n",
        "list1[5]\n",
        "\n",
        "# 取出範圍元素值\n",
        "# 格式：串列[起始索引：終止索引]\n",
        "list1[2:5] #3,4,5\n",
        "list1[5:8] #6,7,8\n",
        "\n",
        "# 取出範圍元素值,有間隔\n",
        "# 格式：串列[起始索引:終止索引:間隔值]\n",
        "list1[0:9:2]\n",
        "list1[1:9:2]\n",
        "\n",
        "# 取出特定範圍值\n",
        "# 取出所有的值\n",
        "list1[0:9]\n",
        "list1[:]\n",
        "\n",
        "#取出前幾名的值\n",
        "list1[0:3]\n",
        "list1[:3]\n",
        "\n",
        "# 取出後幾名的值\n",
        "list1[4:9]\n",
        "list1[4:]\n",
        "\n",
        "# 取出最後一個值\n",
        "len(list1)\n",
        "list1[len(list1)-1]\n",
        "\n",
        "# 從右邊開始算第一個值為-1\n",
        "list1[-1] \n",
        "list1[-4] #取出倒數第四個\n",
        "list1[-3:] # 取出最後三個\n",
        "\n",
        "# 將串列倒序取出\n",
        "list1[::-1]\n",
        "list1[::-2]"
      ],
      "metadata": {
        "colab": {
          "base_uri": "https://localhost:8080/"
        },
        "id": "O3g8kwyCNnML",
        "outputId": "afd2d423-7116-4c26-8386-f3e64295b6ae"
      },
      "execution_count": null,
      "outputs": [
        {
          "output_type": "execute_result",
          "data": {
            "text/plain": [
              "[9, 7, 5, 3, 1]"
            ]
          },
          "metadata": {},
          "execution_count": 95
        }
      ]
    },
    {
      "cell_type": "code",
      "source": [
        "str1 = 'abcdefgh'\n",
        "str1[2]\n",
        "str1[2:5]\n",
        "\n",
        "addr1 = '台北市大同區忠孝東路一段100號'\n",
        "addr1[0:3]\n",
        "addr1[:3]\n",
        "addr1[:6]\n",
        "\n",
        "food = 'milk'\n",
        "food[::-1]"
      ],
      "metadata": {
        "colab": {
          "base_uri": "https://localhost:8080/",
          "height": 35
        },
        "id": "3XHDFiMqVOfk",
        "outputId": "445027ad-a47f-4fdf-bed6-0c3c319f4117"
      },
      "execution_count": null,
      "outputs": [
        {
          "output_type": "execute_result",
          "data": {
            "text/plain": [
              "'klim'"
            ],
            "application/vnd.google.colaboratory.intrinsic+json": {
              "type": "string"
            }
          },
          "metadata": {},
          "execution_count": 114
        }
      ]
    },
    {
      "cell_type": "markdown",
      "source": [
        "## 整數串列\n",
        "range()"
      ],
      "metadata": {
        "id": "qSi1SiSnXcjB"
      }
    },
    {
      "cell_type": "code",
      "source": [
        "# 整數串列宣告\n",
        "# range([起始索引]終止索引[間隔值])\n",
        "# 可填可不填：[起始索引預設0][間隔值預設1]\n",
        "list(range(5))\n",
        "list(range(1,10))\n",
        "list(range(1,10,2))\n",
        "list(range(2,10,2))\n",
        "\n",
        "list(range(9,0,-1))\n",
        "list(range(9,-1,-1))"
      ],
      "metadata": {
        "colab": {
          "base_uri": "https://localhost:8080/"
        },
        "id": "7-HOt1NDXiAg",
        "outputId": "48b3d506-5115-44f1-ad30-47527455486e"
      },
      "execution_count": null,
      "outputs": [
        {
          "output_type": "execute_result",
          "data": {
            "text/plain": [
              "[9, 8, 7, 6, 5, 4, 3, 2, 1, 0]"
            ]
          },
          "metadata": {},
          "execution_count": 127
        }
      ]
    },
    {
      "cell_type": "markdown",
      "source": [
        "# 迴圈"
      ],
      "metadata": {
        "id": "EewAfIwyZ0c7"
      }
    },
    {
      "cell_type": "markdown",
      "source": [
        "## For 迴圈"
      ],
      "metadata": {
        "id": "k12RhPSxZ5Cm"
      }
    },
    {
      "cell_type": "markdown",
      "source": [
        "### For List"
      ],
      "metadata": {
        "id": "csrYAm1raIn-"
      }
    },
    {
      "cell_type": "code",
      "source": [
        "fruits = ['Apple','Banana','Cherry']\n",
        "for fruit in fruits:\n",
        "  # print(fruit)\n",
        "  print(fruit,end=',')"
      ],
      "metadata": {
        "colab": {
          "base_uri": "https://localhost:8080/"
        },
        "id": "3kO97sOxaTpM",
        "outputId": "7bf4e49a-49f3-49f8-dd09-066e02af079f"
      },
      "execution_count": null,
      "outputs": [
        {
          "output_type": "stream",
          "name": "stdout",
          "text": [
            "Apple,Banana,Cherry,"
          ]
        }
      ]
    },
    {
      "cell_type": "code",
      "source": [
        "# 用 for list 迴圈計算 1 加到 10\n",
        "list1 = [1,2,3,4,5,6,7,8,9,10]\n",
        "total = 0\n",
        "for i in list1:\n",
        "  total = total + i\n",
        "print(total)"
      ],
      "metadata": {
        "colab": {
          "base_uri": "https://localhost:8080/"
        },
        "id": "bzmHejMSbOav",
        "outputId": "2bfcaad9-40c7-49c4-edff-69f15cadd095"
      },
      "execution_count": null,
      "outputs": [
        {
          "output_type": "stream",
          "name": "stdout",
          "text": [
            "55\n"
          ]
        }
      ]
    },
    {
      "cell_type": "code",
      "source": [
        "# 用 for list 迴圈計算 1 到 10 的偶數相加\n",
        "list1 = [1,2,3,4,5,6,7,8,9,10]\n",
        "total = 0\n",
        "for i in list1[1::2]:\n",
        "  total = total + i\n",
        "print(total)"
      ],
      "metadata": {
        "colab": {
          "base_uri": "https://localhost:8080/"
        },
        "id": "MgjG4xK1cg9_",
        "outputId": "cf7ef954-cf6e-4f0d-83ad-eefc0e812b12"
      },
      "execution_count": null,
      "outputs": [
        {
          "output_type": "stream",
          "name": "stdout",
          "text": [
            "30\n"
          ]
        }
      ]
    },
    {
      "cell_type": "code",
      "source": [
        "# 用 for list 迴圈計算 1 到 10 之間 3 的倍數,且是奇數值加總\n",
        "list1 = [1,2,3,4,5,6,7,8,9,10]\n",
        "total = 0\n",
        "# for i in list1[2::3]:\n",
        "#   if i%2 == 1:\n",
        "#     total = total + i \n",
        "# print(total)\n",
        "\n",
        "for i in list1:\n",
        "  if i % 3 == 0:\n",
        "    if i % 2 != 0:\n",
        "      total = total + i\n",
        "print(total)\n",
        "\n",
        "# for i in list1:\n",
        "#   if i % 3 == 0 and i % 2 !=0:\n",
        "#     total = total + i\n",
        "# print(total)"
      ],
      "metadata": {
        "colab": {
          "base_uri": "https://localhost:8080/"
        },
        "id": "yhQ6H0_YdIgL",
        "outputId": "e33954f9-73ec-48f7-c9ca-67792b056cd9"
      },
      "execution_count": null,
      "outputs": [
        {
          "output_type": "stream",
          "name": "stdout",
          "text": [
            "12\n"
          ]
        }
      ]
    },
    {
      "cell_type": "markdown",
      "source": [
        "### For Range"
      ],
      "metadata": {
        "id": "r9ISDsh4bG2I"
      }
    },
    {
      "cell_type": "code",
      "source": [
        "# 用 for range 迴圈計算 1 加到 10\n",
        "total = 0\n",
        "for i in range(1,11):\n",
        "  total = total + i\n",
        "print(total)"
      ],
      "metadata": {
        "colab": {
          "base_uri": "https://localhost:8080/"
        },
        "id": "S851ZqIPfIDf",
        "outputId": "a7f3027d-1043-4245-c23f-f7da8c0032eb"
      },
      "execution_count": null,
      "outputs": [
        {
          "output_type": "stream",
          "name": "stdout",
          "text": [
            "55\n"
          ]
        }
      ]
    },
    {
      "cell_type": "code",
      "source": [
        "# 用 for range 迴圈計算 1 到 10 的偶數相加\n",
        "total = 0\n",
        "for i in range(2,11,2):\n",
        "  total = total + i\n",
        "print(total)"
      ],
      "metadata": {
        "colab": {
          "base_uri": "https://localhost:8080/"
        },
        "id": "VamPq9PzfYTh",
        "outputId": "03ec0535-fca1-46da-b896-36291e6637a5"
      },
      "execution_count": null,
      "outputs": [
        {
          "output_type": "stream",
          "name": "stdout",
          "text": [
            "30\n"
          ]
        }
      ]
    },
    {
      "cell_type": "code",
      "source": [
        "# 用 for range 迴圈計算 1 到 1000 之間 3 的倍數,且是奇數值加總\n",
        "total = 0\n",
        "# for i in range(3,1001,3):\n",
        "#   if i%2 == 1:\n",
        "#     total = total + i \n",
        "# print(total)\n",
        "\n",
        "for i in range(1,1001):\n",
        "  if i % 3 == 0:\n",
        "    if i % 2 != 0:\n",
        "      total = total + i\n",
        "print(total)\n",
        "\n",
        "# for i in range(1,1001):\n",
        "#   if i % 3 == 0 and i % 2 !=0:\n",
        "#     total = total + i\n",
        "# print(total)"
      ],
      "metadata": {
        "colab": {
          "base_uri": "https://localhost:8080/"
        },
        "id": "SVU9K1Qbf2RX",
        "outputId": "41a35abe-0097-46dd-c8f5-6029694c9e8a"
      },
      "execution_count": null,
      "outputs": [
        {
          "output_type": "stream",
          "name": "stdout",
          "text": [
            "83667\n"
          ]
        }
      ]
    },
    {
      "cell_type": "code",
      "source": [
        "# 用 for range 迴圈將所有水果名印出\n",
        "fruits = ['Apple','Banana','Cherry']\n",
        "for fruit in range(len(fruits)):\n",
        "  print(fruits[fruit])\n",
        "  # print(fruits[fruit],end=',')"
      ],
      "metadata": {
        "colab": {
          "base_uri": "https://localhost:8080/"
        },
        "id": "J0kC66YQguUZ",
        "outputId": "e3b8bd2c-b891-417e-d7c3-bb2c6179efff"
      },
      "execution_count": null,
      "outputs": [
        {
          "output_type": "stream",
          "name": "stdout",
          "text": [
            "Apple\n",
            "Banana\n",
            "Cherry\n"
          ]
        }
      ]
    },
    {
      "cell_type": "code",
      "source": [
        "animals = \"鼠牛虎兔龍蛇馬羊猴雞狗豬\"\n",
        "# animals[:5]\n",
        "\n",
        "for animal in animals:\n",
        "  print(animal,end=\" \")\n",
        "\n",
        "# for i in range(0,5):\n",
        "  # print(animals[i],end=\" \")"
      ],
      "metadata": {
        "colab": {
          "base_uri": "https://localhost:8080/"
        },
        "id": "pjDker2Whzoh",
        "outputId": "64132d2d-9f13-4950-a0e3-fd53fc0b61c7"
      },
      "execution_count": null,
      "outputs": [
        {
          "output_type": "stream",
          "name": "stdout",
          "text": [
            "鼠 牛 虎 兔 龍 "
          ]
        }
      ]
    },
    {
      "cell_type": "markdown",
      "source": [
        "## While 迴圈"
      ],
      "metadata": {
        "id": "uA-5p4t-jYtD"
      }
    },
    {
      "cell_type": "code",
      "source": [
        "# 用 While 迴圈計算 1 到 10\n",
        "i = 1\n",
        "total = 0\n",
        "while i <= 10 :\n",
        "  total = total + i \n",
        "  i = i + 1\n",
        "print(total)"
      ],
      "metadata": {
        "colab": {
          "base_uri": "https://localhost:8080/"
        },
        "id": "qYSnCJldjg_R",
        "outputId": "10e1af44-1dd1-4ff6-a639-f33c52c0b8b1"
      },
      "execution_count": null,
      "outputs": [
        {
          "output_type": "stream",
          "name": "stdout",
          "text": [
            "55\n"
          ]
        }
      ]
    },
    {
      "cell_type": "code",
      "source": [
        "# 用 While 迴圈計算 1 到 10 偶數加總\n",
        "i = 1\n",
        "total = 0\n",
        "while i <= 10 :\n",
        "  if i % 2 == 0 :\n",
        "    total = total + i\n",
        "  i = i + 1\n",
        "print(total)"
      ],
      "metadata": {
        "colab": {
          "base_uri": "https://localhost:8080/"
        },
        "id": "qRkUNMYukHCi",
        "outputId": "9a1ebbdd-ba15-4e04-ab86-8f9bffe0f952"
      },
      "execution_count": null,
      "outputs": [
        {
          "output_type": "stream",
          "name": "stdout",
          "text": [
            "30\n"
          ]
        }
      ]
    },
    {
      "cell_type": "code",
      "source": [
        "# 用 While 迴圈計算 1 到 1000 之間 3 的倍數,而且是奇數值的加總\n",
        "i = 1\n",
        "total = 0\n",
        "while i <= 1000 :\n",
        "  if i % 3 == 0 and i % 2 != 0 :\n",
        "    total = total + i\n",
        "  i = i + 1\n",
        "print(total)"
      ],
      "metadata": {
        "colab": {
          "base_uri": "https://localhost:8080/"
        },
        "id": "wVWYoE4ukmMB",
        "outputId": "7fe562d3-b5c1-4b5c-dd21-f658da70b16e"
      },
      "execution_count": null,
      "outputs": [
        {
          "output_type": "stream",
          "name": "stdout",
          "text": [
            "83667\n"
          ]
        }
      ]
    },
    {
      "cell_type": "markdown",
      "source": [
        "## Break & Continue"
      ],
      "metadata": {
        "id": "jetFWEj9lL0J"
      }
    },
    {
      "cell_type": "code",
      "source": [
        "# Break 跳出迴圈\n",
        "for i in range(1,11):\n",
        "  if i == 4:\n",
        "    break\n",
        "  print(i,end=\",\")"
      ],
      "metadata": {
        "colab": {
          "base_uri": "https://localhost:8080/"
        },
        "id": "W9AvFh2NlWMm",
        "outputId": "39af8d07-ca71-40bc-dad1-32ccbdaa0044"
      },
      "execution_count": null,
      "outputs": [
        {
          "output_type": "stream",
          "name": "stdout",
          "text": [
            "1,2,3,"
          ]
        }
      ]
    },
    {
      "cell_type": "code",
      "source": [
        "# Continue 跳過迴圈\n",
        "for i in range(1,11):\n",
        "  if i == 4:\n",
        "    continue\n",
        "  print(i,end=\",\")"
      ],
      "metadata": {
        "colab": {
          "base_uri": "https://localhost:8080/"
        },
        "id": "7NKwYITQlxWb",
        "outputId": "d2c51d36-84c8-41c8-c768-92c43ac16176"
      },
      "execution_count": null,
      "outputs": [
        {
          "output_type": "stream",
          "name": "stdout",
          "text": [
            "1,2,3,5,6,7,8,9,10,"
          ]
        }
      ]
    },
    {
      "cell_type": "code",
      "source": [
        "# 印出一份由 2 到 9 的九九乘法表\n",
        "for i in range(2,10):\n",
        "  for j in range(2,10):\n",
        "    print(f\"{i} * {j} = {i*j:02}\",end=\"  \")\n",
        "  print()"
      ],
      "metadata": {
        "id": "PwhuyRLamEis",
        "colab": {
          "base_uri": "https://localhost:8080/"
        },
        "outputId": "84b85b49-db64-4060-b4cd-0df7e2fa2c3a"
      },
      "execution_count": null,
      "outputs": [
        {
          "output_type": "stream",
          "name": "stdout",
          "text": [
            "2 * 2 = 04  2 * 3 = 06  2 * 4 = 08  2 * 5 = 10  2 * 6 = 12  2 * 7 = 14  2 * 8 = 16  2 * 9 = 18  \n",
            "3 * 2 = 06  3 * 3 = 09  3 * 4 = 12  3 * 5 = 15  3 * 6 = 18  3 * 7 = 21  3 * 8 = 24  3 * 9 = 27  \n",
            "4 * 2 = 08  4 * 3 = 12  4 * 4 = 16  4 * 5 = 20  4 * 6 = 24  4 * 7 = 28  4 * 8 = 32  4 * 9 = 36  \n",
            "5 * 2 = 10  5 * 3 = 15  5 * 4 = 20  5 * 5 = 25  5 * 6 = 30  5 * 7 = 35  5 * 8 = 40  5 * 9 = 45  \n",
            "6 * 2 = 12  6 * 3 = 18  6 * 4 = 24  6 * 5 = 30  6 * 6 = 36  6 * 7 = 42  6 * 8 = 48  6 * 9 = 54  \n",
            "7 * 2 = 14  7 * 3 = 21  7 * 4 = 28  7 * 5 = 35  7 * 6 = 42  7 * 7 = 49  7 * 8 = 56  7 * 9 = 63  \n",
            "8 * 2 = 16  8 * 3 = 24  8 * 4 = 32  8 * 5 = 40  8 * 6 = 48  8 * 7 = 56  8 * 8 = 64  8 * 9 = 72  \n",
            "9 * 2 = 18  9 * 3 = 27  9 * 4 = 36  9 * 5 = 45  9 * 6 = 54  9 * 7 = 63  9 * 8 = 72  9 * 9 = 81  \n"
          ]
        }
      ]
    },
    {
      "cell_type": "code",
      "source": [
        "# 印出三角形\n",
        "for i in range(1,11,2):\n",
        "  print(i*\"*\")\n",
        "\n",
        "for i in range(1,11,2):\n",
        "  print(\"{:9}\".format(i*\"*\"))\n",
        "\n",
        "for i in range(1,11,2):\n",
        "  print((9-i)*\" \",end='')\n",
        "  print(i*\"*\")\n",
        "\n",
        "for i in range(1,11,2):\n",
        "  print(\"{:>9}\".format(i*\"*\"))\n",
        "\n",
        "for i in range(1,11,2):\n",
        "  print(int((9-i)/2) * \" \",end=\"\")\n",
        "  print(i*\"*\")\n",
        "\n",
        "for i in range(1,11,2):\n",
        "  print(\"{:^9}\".format(i*\"*\"))"
      ],
      "metadata": {
        "id": "DCy_f5FqmTbO",
        "colab": {
          "base_uri": "https://localhost:8080/"
        },
        "outputId": "7391ad5e-80f5-4049-9274-2f325a7f0d0b"
      },
      "execution_count": null,
      "outputs": [
        {
          "output_type": "stream",
          "name": "stdout",
          "text": [
            "*\n",
            "***\n",
            "*****\n",
            "*******\n",
            "*********\n",
            "*        \n",
            "***      \n",
            "*****    \n",
            "*******  \n",
            "*********\n",
            "        *\n",
            "      ***\n",
            "    *****\n",
            "  *******\n",
            "*********\n",
            "        *\n",
            "      ***\n",
            "    *****\n",
            "  *******\n",
            "*********\n",
            "    *\n",
            "   ***\n",
            "  *****\n",
            " *******\n",
            "*********\n",
            "    *    \n",
            "   ***   \n",
            "  *****  \n",
            " ******* \n",
            "*********\n"
          ]
        }
      ]
    }
  ]
}