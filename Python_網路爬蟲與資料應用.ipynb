{
  "nbformat": 4,
  "nbformat_minor": 0,
  "metadata": {
    "colab": {
      "name": "Python 網路爬蟲與資料應用.ipynb",
      "provenance": [],
      "collapsed_sections": [],
      "include_colab_link": true
    },
    "kernelspec": {
      "name": "python3",
      "display_name": "Python 3"
    },
    "language_info": {
      "name": "python"
    }
  },
  "cells": [
    {
      "cell_type": "markdown",
      "metadata": {
        "id": "view-in-github",
        "colab_type": "text"
      },
      "source": [
        "<a href=\"https://colab.research.google.com/github/xuzhenting/Notebooks/blob/main/Python_%E7%B6%B2%E8%B7%AF%E7%88%AC%E8%9F%B2%E8%88%87%E8%B3%87%E6%96%99%E6%87%89%E7%94%A8.ipynb\" target=\"_parent\"><img src=\"https://colab.research.google.com/assets/colab-badge.svg\" alt=\"Open In Colab\"/></a>"
      ]
    },
    {
      "cell_type": "markdown",
      "source": [
        "# 例外處理"
      ],
      "metadata": {
        "id": "6X_VRgTxEDg1"
      }
    },
    {
      "cell_type": "markdown",
      "source": [
        "## try…except 的語法  \n",
        "\n",
        "```\n",
        "try:\n",
        "    可能引發例外的程式區塊\n",
        "except 例外情形一 [as 參數]:\n",
        "    處理例外的程式區塊一\n",
        "except Exception [as 參數]:\n",
        "    處理所有其他可能發生的例外\n",
        "else:\n",
        "    指令正確時執行的程式區塊\n",
        "finally:\n",
        "    一定會執行的程式區塊\n",
        "```"
      ],
      "metadata": {
        "id": "l54bqXJyfP4N"
      }
    },
    {
      "cell_type": "code",
      "source": [
        "# 語法測試、練習\n",
        "try:\n",
        "  f = open('123.txt,r')\n",
        "except FileNotFoundError:\n",
        "  print('沒有這個檔案')\n",
        "except:\n",
        "  print('好像有什麼錯誤')\n",
        "else:\n",
        "  print('有這個檔案')\n",
        "finally:\n",
        "  print('程式結束')"
      ],
      "metadata": {
        "id": "l3CnnPo7J6xs",
        "colab": {
          "base_uri": "https://localhost:8080/"
        },
        "outputId": "15073b03-4b39-453a-e5ba-378d0843a606"
      },
      "execution_count": null,
      "outputs": [
        {
          "output_type": "stream",
          "name": "stdout",
          "text": [
            "沒有這個檔案\n",
            "程式結束\n"
          ]
        }
      ]
    },
    {
      "cell_type": "markdown",
      "source": [
        "## try…except 常用例外錯誤表  \n",
        "* AttributeError：物件無此屬性。  \n",
        "* Exception：所有的錯誤。  \n",
        "* FileNotFoundError：open()開啟檔案時找不檔案的錯誤。  \n",
        "* IOError：輸入/ 輸出錯誤。  \n",
        "* ZeroDivisionError：除數為0的錯誤。\n"
      ],
      "metadata": {
        "id": "c190vqCx9qFv"
      }
    },
    {
      "cell_type": "code",
      "source": [
        "# 範例：捕捉非數值資料和除數為0的錯誤\n",
        "try:\n",
        "  a = int(input('a= '))\n",
        "  b = int(input('b= '))\n",
        "  r = a % b\n",
        "except ValueError:\n",
        "  print('請輸入數字')\n",
        "except ZeroDivisionError as e :\n",
        "  print(f'發生錯誤{e}')\n",
        "except:\n",
        "  print('請確認輸入的資料')\n",
        "else:\n",
        "  print(f'r={r}')\n",
        "finally:\n",
        "  print('程式結束')"
      ],
      "metadata": {
        "id": "EVa_Y_Fo8C34",
        "colab": {
          "base_uri": "https://localhost:8080/"
        },
        "outputId": "14c2c04b-a2c1-4fb6-aafb-28344d0aa957"
      },
      "execution_count": null,
      "outputs": [
        {
          "output_type": "stream",
          "name": "stdout",
          "text": [
            "a=  \n",
            "請輸入數字\n",
            "程式結束\n"
          ]
        }
      ]
    },
    {
      "cell_type": "code",
      "source": [
        "while True:\n",
        "  try:\n",
        "    a = int(input('a= '))\n",
        "    b = int(input('b= '))\n",
        "    r = a % b\n",
        "  except ValueError:\n",
        "    print('請輸入數字')\n",
        "  except ZeroDivisionError as e :\n",
        "    print(f'發生錯誤{e}')\n",
        "  except:\n",
        "    print('請確認輸入的資料')\n",
        "  else:\n",
        "    print(f'r={r}')\n",
        "    break\n",
        "  finally:\n",
        "    print('-'*10)"
      ],
      "metadata": {
        "colab": {
          "base_uri": "https://localhost:8080/"
        },
        "id": "wiFgM16Pghom",
        "outputId": "5247016b-a943-46fb-8dbe-5d7b96eccb0b"
      },
      "execution_count": null,
      "outputs": [
        {
          "output_type": "stream",
          "name": "stdout",
          "text": [
            "a= 1\n",
            "b= \n",
            "請輸入數字\n",
            "----------\n",
            "a= 1\n",
            "b=  \n",
            "請輸入數字\n",
            "----------\n",
            "a= 2\n",
            "b= 0\n",
            "發生錯誤integer division or modulo by zero\n",
            "----------\n",
            "a= 10\n",
            "b= 3\n",
            "r=1\n",
            "----------\n"
          ]
        }
      ]
    },
    {
      "cell_type": "markdown",
      "metadata": {
        "id": "ESAhER_RM8s0"
      },
      "source": [
        "# 文件檔案的爬取與儲存"
      ]
    },
    {
      "cell_type": "markdown",
      "source": [
        "## 資料檔案的儲存：open()函式\n",
        "### 語法\n",
        "    with open(檔案名稱[, 模式][, 編碼]) as f:\n",
        "        f.檔案處理函式()\n",
        "\n",
        "* 檔案名稱：設定檔案的名稱，它是字串型態。  \n",
        "* 模式：設定檔案開啟的模式，省略將預設為讀取模式。  \n",
        "    * r\t：讀取模式，此為預設模式。  \n",
        "    * a\t：附加模式，若檔案已存在，內容會被附加至檔案尾。    \n",
        "    * w\t：寫入模式，若檔案已存在，內容將會被覆蓋。  \n",
        "    * b ：二進位模式\n",
        "* 編碼：指定檔案的編碼模式，一般可設定`cp950`或`UTF-8` (大小寫都可以)。\n",
        "\n",
        "## 檔案處理函式\n",
        "* read()：讀取檔案內容為文字。\n",
        "* readline()：讀取檔案內容的第一行文字。\n",
        "* readlines()：讀取檔案內容，以行為元素儲存為串列。\n",
        "* write()：寫入檔案。\n",
        "* close()：關閉檔案。"
      ],
      "metadata": {
        "id": "rg2Q7T7fFJZO"
      }
    },
    {
      "cell_type": "code",
      "source": [
        "# 文字檔案讀寫的範例\n",
        "f = open('file.txt','w')\n",
        "f.write('abcd')\n",
        "f.close()\n",
        "\n",
        "f = open('file.txt','a')\n",
        "f.write('1234')\n",
        "f.close()\n",
        "\n",
        "f = open('file.txt','r')\n",
        "print(f.read())\n",
        "f.close() #亦可當作儲存動作"
      ],
      "metadata": {
        "id": "oEb_Qg-7peIX",
        "colab": {
          "base_uri": "https://localhost:8080/"
        },
        "outputId": "748d861d-ca81-4801-ce68-9e4d521f506f"
      },
      "execution_count": null,
      "outputs": [
        {
          "output_type": "stream",
          "name": "stdout",
          "text": [
            "abcd1234\n"
          ]
        }
      ]
    },
    {
      "cell_type": "code",
      "source": [
        "with open('file.txt','a') as f:\n",
        "  f.write('1234')\n",
        "  f.write('abcd')"
      ],
      "metadata": {
        "id": "6__6VUzUjOm7"
      },
      "execution_count": null,
      "outputs": []
    },
    {
      "cell_type": "markdown",
      "source": [
        "## 資料的爬取：requests模組"
      ],
      "metadata": {
        "id": "m2aQecN4OZWl"
      }
    },
    {
      "cell_type": "code",
      "source": [
        "# 讀取遠端資料\n",
        "# COVID-19各國家地區累積病例數與死亡數\n",
        "# https://data.gov.tw/dataset/120449\n",
        "import requests\n",
        "url = 'https://od.cdc.gov.tw/eic/covid19/covid19_global_cases_and_deaths.csv'\n",
        "r = requests.get(url)\n",
        "r.encoding = \"utf-8\"\n",
        "r"
      ],
      "metadata": {
        "id": "pheI4Z1mNk6L",
        "colab": {
          "base_uri": "https://localhost:8080/"
        },
        "outputId": "3331b39e-59fb-4a0a-d523-a22717dfbc09"
      },
      "execution_count": null,
      "outputs": [
        {
          "output_type": "execute_result",
          "data": {
            "text/plain": [
              "<Response [200]>"
            ]
          },
          "metadata": {},
          "execution_count": 4
        }
      ]
    },
    {
      "cell_type": "code",
      "source": [
        "print(r.text)"
      ],
      "metadata": {
        "colab": {
          "base_uri": "https://localhost:8080/"
        },
        "id": "s--6X7SVwHjD",
        "outputId": "a88d55e8-e86e-4b6b-a9ff-d4976c614ac8"
      },
      "execution_count": null,
      "outputs": [
        {
          "output_type": "stream",
          "name": "stdout",
          "text": [
            "country_ch,country_en,cases,deaths\r\n",
            "美國,United States,\"90,322,417\",\"1,049,606\"\r\n",
            "印度,India,\"43,938,764\",\"526,167\"\r\n",
            "巴西,Brazil,\"33,704,393\",\"677,804\"\r\n",
            "法國,France,\"33,689,657\",\"151,782\"\r\n",
            "德國,Germany,\"30,598,385\",\"143,545\"\r\n",
            "英國,United Kingdom,\"23,212,565\",\"182,727\"\r\n",
            "義大利,Italy,\"20,837,233\",\"171,439\"\r\n",
            "韓國,South Korea,\"19,446,946\",\"24,932\"\r\n",
            "俄羅斯,Russia,\"18,554,036\",\"382,272\"\r\n",
            "土耳其,Turkey,\"15,524,071\",\"99,184\"\r\n",
            "西班牙,Spain,\"13,204,863\",\"110,187\"\r\n",
            "日本,Japan,\"11,921,222\",\"32,194\"\r\n",
            "越南,Vietnam,\"10,772,980\",\"43,092\"\r\n",
            "阿根廷,Argentina,\"9,507,562\",\"129,278\"\r\n",
            "澳洲,Australia,\"9,235,196\",\"11,386\"\r\n",
            "荷蘭,Netherlands,\"8,324,399\",\"22,483\"\r\n",
            "伊朗,Iran,\"7,359,489\",\"141,795\"\r\n",
            "墨西哥,Mexico,\"6,659,038\",\"327,261\"\r\n",
            "哥倫比亞,Colombia,\"6,247,634\",\"140,603\"\r\n",
            "印尼,Indonesia,\"6,185,311\",\"156,940\"\r\n",
            "波蘭,Poland,\"6,058,462\",\"116,535\"\r\n",
            "葡萄牙,Portugal,\"5,333,656\",\"24,576\"\r\n",
            "烏克蘭,Ukraine,\"5,021,612\",\"108,699\"\r\n",
            "奧地利,Austria,\"4,716,543\",\"19,051\"\r\n",
            "馬來西亞,Malaysia,\"4,664,213\",\"35,942\"\r\n",
            "泰國,Thailand,\"4,582,168\",\"31,258\"\r\n",
            "以色列,Israel,\"4,567,893\",\"11,347\"\r\n",
            "臺灣,Taiwan,\"4,498,416\",\"8,714\"\r\n",
            "比利時,Belgium,\"4,398,161\",\"32,179\"\r\n",
            "希臘,Greece,\"4,210,771\",\"30,707\"\r\n",
            "智利,Chile,\"4,204,824\",\"59,405\"\r\n",
            "加拿大,Canada,\"4,012,359\",\"43,583\"\r\n",
            "南非,South Africa,\"4,003,883\",\"101,967\"\r\n",
            "捷克,Czech Republic,\"3,975,717\",\"40,420\"\r\n",
            "瑞士,Switzerland,\"3,949,245\",\"13,499\"\r\n",
            "秘魯,Peru,\"3,859,279\",\"214,112\"\r\n",
            "菲律賓,Philippines,\"3,760,488\",\"60,694\"\r\n",
            "丹麥,Denmark,\"3,104,371\",\"6,672\"\r\n",
            "羅馬尼亞,Romania,\"3,033,866\",\"65,923\"\r\n",
            "瑞典,Sweden,\"2,533,978\",\"19,249\"\r\n",
            "伊拉克,Iraq,\"2,435,440\",\"25,297\"\r\n",
            "塞爾維亞,Serbia,\"2,101,168\",\"16,239\"\r\n",
            "孟加拉,Bangladesh,\"2,003,570\",\"29,280\"\r\n",
            "匈牙利,Hungary,\"1,965,481\",\"46,790\"\r\n",
            "斯洛伐克,Slovakia,\"1,814,507\",\"20,206\"\r\n",
            "約旦,Jordan,\"1,709,879\",\"14,074\"\r\n",
            "新加坡,Singapore,\"1,685,889\",\"1,490\"\r\n",
            "喬治亞,Georgia,\"1,675,265\",\"16,854\"\r\n",
            "愛爾蘭,Ireland,\"1,644,166\",\"7,640\"\r\n",
            "紐西蘭,New Zealand,\"1,577,414\",\"1,427\"\r\n",
            "巴基斯坦,Pakistan,\"1,551,871\",\"30,474\"\r\n",
            "挪威,Norway,\"1,455,162\",\"3,623\"\r\n",
            "哈薩克,Kazakhstan,\"1,338,090\",\"13,665\"\r\n",
            "香港,Hong Kong,\"1,334,907\",\"9,488\"\r\n",
            "摩洛哥,Morocco,\"1,259,420\",\"16,226\"\r\n",
            "保加利亞,Bulgaria,\"1,202,494\",\"37,356\"\r\n",
            "克羅埃西亞,Croatia,\"1,180,857\",\"16,265\"\r\n",
            "芬蘭,Finland,\"1,171,034\",\"5,012\"\r\n",
            "黎巴嫩,Lebanon,\"1,164,395\",\"10,519\"\r\n",
            "突尼西亞,Tunisia,\"1,128,693\",\"29,041\"\r\n",
            "古巴,Cuba,\"1,107,708\",\"8,529\"\r\n",
            "立陶宛,Lithuania,\"1,082,033\",\"9,206\"\r\n",
            "斯洛維尼亞,Slovenia,\"1,077,189\",\"6,688\"\r\n",
            "瓜地馬拉,Guatemala,\"1,027,805\",\"18,972\"\r\n",
            "玻利維亞,Bolivia,\"1,014,252\",\"22,032\"\r\n",
            "白俄羅斯,Belarus,\"994,037\",\"7,118\"\r\n",
            "哥斯大黎加,Costa Rica,\"989,213\",\"8,670\"\r\n",
            "阿拉伯聯合大公國,UAE,\"986,747\",\"2,334\"\r\n",
            "尼泊爾,Nepal,\"984,893\",\"11,960\"\r\n",
            "烏拉圭,Uruguay,\"969,803\",\"7,403\"\r\n",
            "厄瓜多,Ecuador,\"955,583\",\"35,793\"\r\n",
            "巴拿馬,Panama,\"948,473\",\"8,412\"\r\n",
            "拉脫維亞,Latvia,\"858,728\",\"5,887\"\r\n",
            "沙烏地阿拉伯,Saudi Arabia,\"808,742\",\"9,243\"\r\n",
            "亞塞拜然,Azerbaijan,\"797,281\",\"9,741\"\r\n",
            "巴拉圭,Paraguay,\"701,060\",\"19,147\"\r\n",
            "巴勒斯坦,Palestine,\"678,414\",\"5,672\"\r\n",
            "斯里蘭卡,Sri Lanka,\"665,094\",\"16,544\"\r\n",
            "巴林,Bahrain,\"657,669\",\"1,509\"\r\n",
            "科威特,Kuwait,\"653,730\",\"2,559\"\r\n",
            "多明尼加,Dominican,\"626,611\",\"4,383\"\r\n",
            "緬甸,Myanmar,\"613,991\",\"19,434\"\r\n",
            "愛沙尼亞,Estonia,\"586,171\",\"2,620\"\r\n",
            "賽普勒斯,Cyprus,\"556,048\",\"1,099\"\r\n",
            "委內瑞拉,Venezuela,\"533,379\",\"5,757\"\r\n",
            "摩爾多瓦,Moldova,\"520,321\",\"11,567\"\r\n",
            "埃及,Egypt,\"515,645\",\"24,613\"\r\n",
            "利比亞,Libya,\"503,611\",\"6,431\"\r\n",
            "衣索比亞,Ethiopia,\"491,979\",\"7,568\"\r\n",
            "蒙古,Mongolia,\"489,088\",\"2,119\"\r\n",
            "宏都拉斯,Honduras,\"438,050\",\"10,932\"\r\n",
            "亞美尼亞,Armenia,\"425,365\",\"8,633\"\r\n",
            "卡達,Qatar,\"405,312\",680\r\n",
            "阿曼,Oman,\"393,002\",\"4,260\"\r\n",
            "波士尼亞與赫塞哥維納,Bosnia and Herzegovina,\"383,826\",\"15,841\"\r\n",
            "肯亞,Kenya,\"337,456\",\"5,672\"\r\n",
            "尚比亞,Zambia,\"329,483\",\"4,015\"\r\n",
            "北馬其頓,North Macedonia,\"325,279\",\"9,361\"\r\n",
            "波札那,Botswana,\"325,181\",\"2,763\"\r\n",
            "阿爾巴尼亞,Albania,\"308,050\",\"3,535\"\r\n",
            "盧森堡,Luxembourg,\"279,354\",\"1,108\"\r\n",
            "阿爾及利亞,Algeria,\"267,096\",\"6,876\"\r\n",
            "奈及利亞,Nigeria,\"260,764\",\"3,147\"\r\n",
            "辛巴威,Zimbabwe,\"256,315\",\"5,574\"\r\n",
            "蒙特內哥羅,Montenegro,\"255,580\",\"2,742\"\r\n",
            "科索沃,Kosovo,\"248,897\",\"3,167\"\r\n",
            "烏茲別克,Uzbekistan,\"242,879\",\"1,637\"\r\n",
            "模里西斯,Mauritius,\"241,165\",\"1,008\"\r\n",
            "莫三比克,Mozambique,\"229,443\",\"2,215\"\r\n",
            "中國大陸,China,\"229,189\",\"5,226\"\r\n",
            "寮國,Laos,\"210,963\",757\r\n",
            "汶萊,Brunei,\"201,857\",233\r\n",
            "冰島,Iceland,\"201,648\",179\r\n",
            "吉爾吉斯,Kyrgyzstan,\"201,329\",\"2,991\"\r\n",
            "阿富汗,Afghanistan,\"185,272\",\"7,743\"\r\n",
            "馬爾地夫,Maldives,\"184,302\",307\r\n",
            "薩爾瓦多,El Salvador,\"180,970\",\"4,192\"\r\n",
            "千里達及托巴哥,Trinidad and Tobago,\"170,710\",\"4,046\"\r\n",
            "納米比亞,Namibia,\"169,253\",\"4,065\"\r\n",
            "烏干達,Uganda,\"169,162\",\"3,628\"\r\n",
            "迦納,Ghana,\"167,215\",\"1,456\"\r\n",
            "牙買加,Jamaica,\"145,803\",\"3,186\"\r\n",
            "柬埔寨,Cambodia,\"136,651\",\"3,056\"\r\n",
            "盧安達,Rwanda,\"132,198\",\"1,466\"\r\n",
            "喀麥隆,Cameroon,\"120,215\",\"1,931\"\r\n",
            "馬爾他,Malta,\"112,533\",789\r\n",
            "安哥拉,Angola,\"102,301\",\"1,912\"\r\n",
            "剛果民主共和國,DR Congo,\"92,173\",\"1,390\"\r\n",
            "巴貝多,Barbados,\"90,934\",489\r\n",
            "馬拉威,Malawi,\"87,323\",\"2,663\"\r\n",
            "塞內加爾,Senegal,\"87,194\",\"1,968\"\r\n",
            "象牙海岸,Ivory Coast,\"85,055\",810\r\n",
            "蘇利南,Suriname,\"80,966\",\"1,380\"\r\n",
            "史瓦帝尼,Eswatini,\"73,267\",\"1,417\"\r\n",
            "蓋亞那,Guyana,\"69,620\",\"1,271\"\r\n",
            "斐濟,Fiji,\"67,356\",870\r\n",
            "貝里斯,Belize,\"66,857\",680\r\n",
            "馬達加斯加,Madagascar,\"66,416\",\"1,407\"\r\n",
            "蘇丹,Sudan,\"63,006\",\"4,957\"\r\n",
            "茅利塔尼亞,Mauritania,\"62,457\",991\r\n",
            "維德角,Cape Verde,\"62,114\",410\r\n",
            "不丹,Bhutan,\"60,368\",21\r\n",
            "敘利亞,Syria,\"56,214\",\"3,150\"\r\n",
            "加彭,Gabon,\"48,417\",306\r\n",
            "塞席爾,Seychelles,\"45,429\",167\r\n",
            "巴布亞紐幾內亞,Papua New Guinea,\"44,772\",662\r\n",
            "安道爾,Andorra,\"44,671\",153\r\n",
            "蒲隆地,Burundi,\"44,437\",38\r\n",
            "多哥,Togo,\"37,998\",278\r\n",
            "坦尚尼亞,Tanzania,\"37,510\",841\r\n",
            "幾內亞,Guinea,\"37,358\",443\r\n",
            "巴哈馬,Bahamas,\"36,622\",822\r\n",
            "賴索托,Lesotho,\"34,040\",702\r\n",
            "海地,Haiti,\"32,223\",838\r\n",
            "馬利,Mali,\"31,217\",737\r\n",
            "聖露西亞,Saint Lucia,\"27,755\",385\r\n",
            "貝南,Benin,\"27,271\",163\r\n",
            "剛果共和國,Congo,\"24,604\",386\r\n",
            "東帝汶,East Timor,\"22,980\",133\r\n",
            "索羅門群島,Solomon islands,\"21,544\",153\r\n",
            "布吉納法索,Burkina Faso,\"21,128\",387\r\n",
            "聖馬利諾,San Marino,\"19,701\",118\r\n",
            "索馬利亞,Somalia,\"18,863\",930\r\n",
            "格瑞那達,Grenada,\"18,768\",234\r\n",
            "列支敦斯登,Liechtenstein,\"18,642\",86\r\n",
            "塔吉克,Tajikistan,\"17,786\",125\r\n",
            "南蘇丹,South Sudan,\"17,733\",138\r\n",
            "赤道幾內亞,Equatorial Guinea,\"16,704\",183\r\n",
            "吉布地,Djibouti,\"15,690\",189\r\n",
            "薩摩亞,Samoa,\"15,318\",29\r\n",
            "多米尼克,Dominica,\"14,852\",68\r\n",
            "尼加拉瓜,Nicaragua,\"14,807\",244\r\n",
            "中非,Central Africa,\"14,712\",113\r\n",
            "摩納哥,Monaco,\"14,001\",57\r\n",
            "東加,Tonga,\"12,539\",12\r\n",
            "甘比亞,Gambia,\"12,078\",368\r\n",
            "葉門,Yemen,\"11,849\",\"2,149\"\r\n",
            "萬那杜,Vanuatu,\"11,723\",14\r\n",
            "索馬利蘭,Somaliland,\"10,436\",620\r\n",
            "厄利垂亞,Eritrea,\"9,980\",103\r\n",
            "尼日,Niger,\"9,104\",311\r\n",
            "安地卡及巴布達,Antigua and Barbuda,\"8,741\",144\r\n",
            "幾內亞比索,Guinea-Bissau,\"8,400\",171\r\n",
            "葛摩,Comoros,\"8,301\",160\r\n",
            "獅子山,Sierra Leone,\"7,731\",125\r\n",
            "賴比瑞亞,Liberia,\"7,508\",294\r\n",
            "查德,Chad,\"7,432\",193\r\n",
            "聖文森及格瑞那丁,Saint Vincent and the Grenadines,\"7,067\",115\r\n",
            "聖克里斯多福及尼維斯,Saint Kitts and Nevis,\"6,442\",46\r\n",
            "聖多美普林西比,Sao Tome and Principe,\"6,100\",74\r\n",
            "庫克群島,Cook Islands,\"5,892\",1\r\n",
            "帛琉,Palau,\"5,220\",6\r\n",
            "諾魯,Nauru,\"4,405\",1\r\n",
            "吉里巴斯,Kiribati,\"3,430\",13\r\n",
            "密克羅尼西亞聯邦,Micronesia,\"2,769\",4\r\n",
            "澳門,Macao,788,6\r\n",
            "國際運輸工具(鑽石公主號),Int'l conveyance (Japan),741,13\r\n",
            "馬紹爾群島,Marshall Islands,59,0\r\n",
            "教廷,Holy See,29,0\r\n",
            "紐埃,Niue,29,0\r\n",
            "吐瓦魯,Tuvalu,8,0\r\n",
            "北韓,North Korea,2,1\n"
          ]
        }
      ]
    },
    {
      "cell_type": "code",
      "execution_count": null,
      "metadata": {
        "id": "JzGvfR9dOdcO"
      },
      "outputs": [],
      "source": [
        "# 文字檔案下載\n",
        "with open('covid-19.csv','w') as f:\n",
        "  f.write(r.text)"
      ]
    },
    {
      "cell_type": "code",
      "execution_count": null,
      "metadata": {
        "id": "vobW0WLfNBsC"
      },
      "outputs": [],
      "source": [
        "# 圖片下載\n",
        "# https://youtu.be/qo3H-VgXmHE\n",
        "# https://img.youtube.com/vi/qo3H-VgXmHE/sddefault.jpg\n",
        "import requests\n",
        "url = 'https://img.youtube.com/vi/qo3H-VgXmHE/sddefault.jpg'\n",
        "r = requests.get(url)\n",
        "with open('girl.jpg','wb') as f:\n",
        "  f.write(r.content)"
      ]
    },
    {
      "cell_type": "markdown",
      "metadata": {
        "id": "-GCWk-mGdoQc"
      },
      "source": [
        "## Colab專用：wget指令"
      ]
    },
    {
      "cell_type": "code",
      "execution_count": null,
      "metadata": {
        "id": "OHiBhj4RR4ZJ",
        "colab": {
          "base_uri": "https://localhost:8080/"
        },
        "outputId": "b5553d38-9ea6-4885-afb2-dfa4114821e0"
      },
      "outputs": [
        {
          "output_type": "stream",
          "name": "stdout",
          "text": [
            "--2022-07-28 04:00:48--  https://www.google.com/images/branding/googlelogo/1x/googlelogo_color_272x92dp.png\n",
            "Resolving www.google.com (www.google.com)... 74.125.26.104, 74.125.26.147, 74.125.26.99, ...\n",
            "Connecting to www.google.com (www.google.com)|74.125.26.104|:443... connected.\n",
            "HTTP request sent, awaiting response... 200 OK\n",
            "Length: 5969 (5.8K) [image/png]\n",
            "Saving to: ‘google.png’\n",
            "\n",
            "\rgoogle.png            0%[                    ]       0  --.-KB/s               \rgoogle.png          100%[===================>]   5.83K  --.-KB/s    in 0s      \n",
            "\n",
            "2022-07-28 04:00:48 (62.1 MB/s) - ‘google.png’ saved [5969/5969]\n",
            "\n"
          ]
        }
      ],
      "source": [
        "# 用 wget 指令\n",
        "# !wget -O 檔名 網址\n",
        "!wget -O google.png https://www.google.com/images/branding/googlelogo/1x/googlelogo_color_272x92dp.png"
      ]
    },
    {
      "cell_type": "markdown",
      "source": [
        "# 網頁資料解析"
      ],
      "metadata": {
        "id": "wCUrxB4GSsbq"
      }
    },
    {
      "cell_type": "markdown",
      "source": [
        "## 網頁資料解析：BeautifulSoup模組\n"
      ],
      "metadata": {
        "id": "kPEURAL0S7ml"
      }
    },
    {
      "cell_type": "code",
      "source": [
        "# 基本練習\n",
        "# http://ehappy.tw/bsdemo1.htm\n",
        "import requests\n",
        "url = 'http://ehappy.tw/bsdemo1.htm'\n",
        "r = requests.get(url)\n",
        "r.encoding = 'utf-8'\n",
        "print(r.text)"
      ],
      "metadata": {
        "id": "8BeffjCzTG31",
        "colab": {
          "base_uri": "https://localhost:8080/"
        },
        "outputId": "72b0792a-799a-435f-fa78-af045c19df16"
      },
      "execution_count": null,
      "outputs": [
        {
          "output_type": "stream",
          "name": "stdout",
          "text": [
            "<!doctype html>\r\n",
            "<html lang=\"zh\">\r\n",
            "  <head>\r\n",
            "    <meta charset=\"UTF-8\">\r\n",
            "    <title>我是網頁標題</title>\r\n",
            "  </head>\r\n",
            "  <body>\r\n",
            "    <h1 class=\"large\">我是標題</h1>\r\n",
            "    <div>\r\n",
            "      <p>我是段落</p>\r\n",
            "      <img src=\"https://www.w3.org/html/logo/downloads/HTML5_Logo_256.png\" alt=\"我是圖片\">\r\n",
            "      <a href=\"http://www.e-happy.com.tw\">我是超連結</a>\r\n",
            "    </div>\r\n",
            "  </body>\r\n",
            "</html>\n"
          ]
        }
      ]
    },
    {
      "cell_type": "code",
      "source": [
        "from bs4 import BeautifulSoup\n",
        "soup = BeautifulSoup(r.text,'html.parser')\n",
        "soup.title\n",
        "soup.title.text\n",
        "soup.h1.text\n",
        "soup.a.text"
      ],
      "metadata": {
        "colab": {
          "base_uri": "https://localhost:8080/",
          "height": 36
        },
        "id": "7jZuhimjIFKM",
        "outputId": "ba48d75f-e629-454c-ad00-8193d546c501"
      },
      "execution_count": null,
      "outputs": [
        {
          "output_type": "execute_result",
          "data": {
            "text/plain": [
              "'我是超連結'"
            ],
            "application/vnd.google.colaboratory.intrinsic+json": {
              "type": "string"
            }
          },
          "metadata": {},
          "execution_count": 18
        }
      ]
    },
    {
      "cell_type": "code",
      "source": [
        "# 練習 find() find_all()\n",
        "# http://ehappy.tw/bsdemo2.htm\n",
        "import requests\n",
        "from bs4 import BeautifulSoup\n",
        "url = 'http://ehappy.tw/bsdemo2.htm'\n",
        "r = requests.get(url)\n",
        "r.encoding = 'utf-8'\n",
        "sp = BeautifulSoup(r.text,'html.parser')\n",
        "sp.title.text\n",
        "sp.h1.text\n",
        "sp.p.text"
      ],
      "metadata": {
        "id": "yvx1lKe7VNj8",
        "colab": {
          "base_uri": "https://localhost:8080/",
          "height": 35
        },
        "outputId": "7c4082d4-28e9-484b-8ada-d77173d06a65"
      },
      "execution_count": null,
      "outputs": [
        {
          "output_type": "execute_result",
          "data": {
            "text/plain": [
              "'我是段落一'"
            ],
            "application/vnd.google.colaboratory.intrinsic+json": {
              "type": "string"
            }
          },
          "metadata": {},
          "execution_count": 2
        }
      ]
    },
    {
      "cell_type": "code",
      "source": [
        "# 找標籤tag\n",
        "sp.find('p').text\n",
        "sp.find_all('p')[1].text\n",
        "sp.find('p',id='p2').text\n",
        "\n",
        "sp.find_all('a')[1].text\n",
        "sp.find('a',href=\"http://www.e-happy.com.tw\").text\n",
        "sp.find('li',class_='even').find('a').text\n",
        "sp.find('li',class_='even').text\n",
        "sp.find('li',class_='even').a.text"
      ],
      "metadata": {
        "id": "6YnDEbfKVhc_",
        "colab": {
          "base_uri": "https://localhost:8080/",
          "height": 35
        },
        "outputId": "c4d3c7e4-5641-4e73-d191-be32f73a3e92"
      },
      "execution_count": null,
      "outputs": [
        {
          "output_type": "execute_result",
          "data": {
            "text/plain": [
              "'我是超連結2'"
            ],
            "application/vnd.google.colaboratory.intrinsic+json": {
              "type": "string"
            }
          },
          "metadata": {},
          "execution_count": 14
        }
      ]
    },
    {
      "cell_type": "code",
      "source": [
        "# 取得屬性\n",
        "sp.find('li',class_='even').a['href']\n",
        "sp.find('li',class_='even').a.get('href')\n",
        "\n",
        "sp.img.get('src')\n",
        "sp.img['src']\n",
        "sp.find('img').get('src')\n",
        "sp.find_all('img')[0].get('src')"
      ],
      "metadata": {
        "id": "QIHvcgfoU09M",
        "colab": {
          "base_uri": "https://localhost:8080/",
          "height": 35
        },
        "outputId": "86293ca5-243c-4e17-a6ea-2100a5a1df42"
      },
      "execution_count": null,
      "outputs": [
        {
          "output_type": "execute_result",
          "data": {
            "text/plain": [
              "'https://www.w3.org/html/logo/downloads/HTML5_Logo_256.png'"
            ],
            "application/vnd.google.colaboratory.intrinsic+json": {
              "type": "string"
            }
          },
          "metadata": {},
          "execution_count": 25
        }
      ]
    },
    {
      "cell_type": "markdown",
      "source": [
        "## 專題：PTT美食版\n",
        "\n",
        "https://www.ptt.cc/bbs/Food/index.html"
      ],
      "metadata": {
        "id": "X9R8OPYmWYyV"
      }
    },
    {
      "cell_type": "code",
      "source": [
        "# 基本版\n",
        "import requests\n",
        "from bs4 import BeautifulSoup\n",
        "url ='https://www.ptt.cc/bbs/Food/index.html'\n",
        "r = requests.get(url)\n",
        "r.encoding = 'utf-8'\n",
        "sp = BeautifulSoup(r.text,'html.parser')\n",
        "sp.title.text"
      ],
      "metadata": {
        "id": "eYZ7CWztWfaR",
        "colab": {
          "base_uri": "https://localhost:8080/",
          "height": 36
        },
        "outputId": "65502ae5-0dcb-4735-8618-6bef4f73f8c1"
      },
      "execution_count": null,
      "outputs": [
        {
          "output_type": "execute_result",
          "data": {
            "text/plain": [
              "'看板 Food 文章列表 - 批踢踢實業坊'"
            ],
            "application/vnd.google.colaboratory.intrinsic+json": {
              "type": "string"
            }
          },
          "metadata": {},
          "execution_count": 2
        }
      ]
    },
    {
      "cell_type": "code",
      "source": [
        "datas = sp.find_all('div',class_='r-ent')\n",
        "for data in datas:\n",
        "  print(data.find('div',class_='date').text,end=' ')\n",
        "  print('https://www.ptt.cc'+data.a.get('href'),end=' ')\n",
        "  print(data.find('a').text)\n",
        "  # print(data.a.text)"
      ],
      "metadata": {
        "colab": {
          "base_uri": "https://localhost:8080/"
        },
        "id": "8-13WcdGs4tl",
        "outputId": "9669b48b-0552-4aaf-aebf-09ac4df93a43"
      },
      "execution_count": null,
      "outputs": [
        {
          "output_type": "stream",
          "name": "stdout",
          "text": [
            " 8/01 https://www.ptt.cc/bbs/Food/M.1659365141.A.FE8.html [食記] 台北內湖葫洲 CURRY CURRY 咖哩咖哩\n",
            " 8/02 https://www.ptt.cc/bbs/Food/M.1659412353.A.197.html [食記] 台北西門 道樂商店 昭和風拉麵店叉燒飯讚\n",
            " 8/02 https://www.ptt.cc/bbs/Food/M.1659420116.A.134.html [食記] 台中 WPAPA鐵板料理早午餐~夏慕尼主廚\n",
            " 8/02 https://www.ptt.cc/bbs/Food/M.1659420365.A.B56.html [食記] 桃園平鎮區。林阿姨麵線\n",
            " 8/02 https://www.ptt.cc/bbs/Food/M.1659434479.A.881.html [食記] 台北信義 waku waku pasta 市府店 絕美必來101景觀咖\n",
            " 8/02 https://www.ptt.cc/bbs/Food/M.1659440349.A.9D5.html [食記] 城市愛玉 台北中山 清涼消暑的檸檬愛玉冰\n",
            " 8/02 https://www.ptt.cc/bbs/Food/M.1659444190.A.C4E.html [食記] 新北三重 五燈獎豬腳 五大滷肉飯之一\n",
            " 8/02 https://www.ptt.cc/bbs/Food/M.1659446514.A.03D.html [食記] 台北大安 月島文字燒 文字燒＆大阪燒都讚\n",
            " 8/02 https://www.ptt.cc/bbs/Food/M.1659446664.A.DAE.html [食記] 新北 時光樹影 淡水河畔旁唯美的景觀餐廳\n",
            " 8/02 https://www.ptt.cc/bbs/Food/M.1659447831.A.C05.html [食記] 林口 土爸爸行動廚房~土耳其炭烤\n",
            " 8/02 https://www.ptt.cc/bbs/Food/M.1659449022.A.B92.html [食記] 高雄 李家圓仔湯 鹽埕在地老字號傳統冰店\n",
            " 8/02 https://www.ptt.cc/bbs/Food/M.1659449578.A.100.html [食記] 台北 市府站新開咖啡廳 CURISTA COFFEE\n",
            " 8/02 https://www.ptt.cc/bbs/Food/M.1659450634.A.6CE.html [食記] 台南歸仁 鼎富酵素臭豆腐、品味素麵館\n",
            " 8/03 https://www.ptt.cc/bbs/Food/M.1659457735.A.482.html [食記] 新北板橋 鴨鴨金烤鴨．一鴨三吃\n",
            " 8/03 https://www.ptt.cc/bbs/Food/M.1659462402.A.095.html [食記] 臺南佳里 順福牛肉湯，台南最頂牛肉湯？\n",
            " 8/03 https://www.ptt.cc/bbs/Food/M.1659482904.A.9E2.html [討論] 徵求8/27或28文華cafe訂位轉讓\n",
            " 8/03 https://www.ptt.cc/bbs/Food/M.1659487242.A.842.html [食記] 台南 南紡 bb.q Chicken 韓式炸雞\n",
            " 8/03 https://www.ptt.cc/bbs/Food/M.1659488130.A.1DD.html [廣宣] 麥克麵線新北三重店-招牌魚漿大腸麵線\n",
            "12/16 https://www.ptt.cc/bbs/Food/M.1355673582.A.5F7.html [公告] Food板 板規 V3.91\n",
            " 9/28 https://www.ptt.cc/bbs/Food/M.1190944426.A.E6C.html [公告] 發文請在標題加上地區及提供地址電話。^^\n",
            "10/01 https://www.ptt.cc/bbs/Food/M.1128132666.A.0FD.html [公告] 文章被刪除者請洽精華區的資源回收桶\n",
            " 6/04 https://www.ptt.cc/bbs/Food/M.1496532469.A.C36.html [公告] 新增板規22：發文禁附延伸閱讀連結\n"
          ]
        }
      ]
    },
    {
      "cell_type": "code",
      "source": [
        "# 爬 5 頁\n",
        "import requests\n",
        "from bs4 import BeautifulSoup\n",
        "url ='https://www.ptt.cc/bbs/Food/index.html'\n",
        "for i in range(5):\n",
        "  print(f'第{i+1}頁')\n",
        "  r = requests.get(url)\n",
        "  sp = BeautifulSoup(r.text,'html.parser')\n",
        "  datas = sp.find_all('div',class_='r-ent')\n",
        "  for data in datas:\n",
        "    if data.a:\n",
        "      print(data.find('div',class_='date').text,end=' ')\n",
        "      print('https://www.ptt.cc'+data.a.get('href'),end=' ')\n",
        "      print(data.find('a').text)\n",
        "\n",
        "  url='https://www.ptt.cc'+sp.find_all('a',class_='btn wide')[1].get('href')"
      ],
      "metadata": {
        "id": "9H_cj--UYCLk",
        "colab": {
          "base_uri": "https://localhost:8080/"
        },
        "outputId": "64480ff1-705b-41f7-b3bb-662ff866bf67"
      },
      "execution_count": null,
      "outputs": [
        {
          "output_type": "stream",
          "name": "stdout",
          "text": [
            "第1頁\n",
            " 8/01 https://www.ptt.cc/bbs/Food/M.1659365141.A.FE8.html [食記] 台北內湖葫洲 CURRY CURRY 咖哩咖哩\n",
            " 8/02 https://www.ptt.cc/bbs/Food/M.1659412353.A.197.html [食記] 台北西門 道樂商店 昭和風拉麵店叉燒飯讚\n",
            " 8/02 https://www.ptt.cc/bbs/Food/M.1659420116.A.134.html [食記] 台中 WPAPA鐵板料理早午餐~夏慕尼主廚\n",
            " 8/02 https://www.ptt.cc/bbs/Food/M.1659420365.A.B56.html [食記] 桃園平鎮區。林阿姨麵線\n",
            " 8/02 https://www.ptt.cc/bbs/Food/M.1659434479.A.881.html [食記] 台北信義 waku waku pasta 市府店 絕美必來101景觀咖\n",
            " 8/02 https://www.ptt.cc/bbs/Food/M.1659440349.A.9D5.html [食記] 城市愛玉 台北中山 清涼消暑的檸檬愛玉冰\n",
            " 8/02 https://www.ptt.cc/bbs/Food/M.1659444190.A.C4E.html [食記] 新北三重 五燈獎豬腳 五大滷肉飯之一\n",
            " 8/02 https://www.ptt.cc/bbs/Food/M.1659446514.A.03D.html [食記] 台北大安 月島文字燒 文字燒＆大阪燒都讚\n",
            " 8/02 https://www.ptt.cc/bbs/Food/M.1659446664.A.DAE.html [食記] 新北 時光樹影 淡水河畔旁唯美的景觀餐廳\n",
            " 8/02 https://www.ptt.cc/bbs/Food/M.1659447831.A.C05.html [食記] 林口 土爸爸行動廚房~土耳其炭烤\n",
            " 8/02 https://www.ptt.cc/bbs/Food/M.1659449022.A.B92.html [食記] 高雄 李家圓仔湯 鹽埕在地老字號傳統冰店\n",
            " 8/02 https://www.ptt.cc/bbs/Food/M.1659449578.A.100.html [食記] 台北 市府站新開咖啡廳 CURISTA COFFEE\n",
            " 8/02 https://www.ptt.cc/bbs/Food/M.1659450634.A.6CE.html [食記] 台南歸仁 鼎富酵素臭豆腐、品味素麵館\n",
            " 8/03 https://www.ptt.cc/bbs/Food/M.1659457735.A.482.html [食記] 新北板橋 鴨鴨金烤鴨．一鴨三吃\n",
            " 8/03 https://www.ptt.cc/bbs/Food/M.1659462402.A.095.html [食記] 臺南佳里 順福牛肉湯，台南最頂牛肉湯？\n",
            " 8/03 https://www.ptt.cc/bbs/Food/M.1659482904.A.9E2.html [討論] 徵求8/27或28文華cafe訂位轉讓\n",
            " 8/03 https://www.ptt.cc/bbs/Food/M.1659487242.A.842.html [食記] 台南 南紡 bb.q Chicken 韓式炸雞\n",
            " 8/03 https://www.ptt.cc/bbs/Food/M.1659488130.A.1DD.html [廣宣] 麥克麵線新北三重店-招牌魚漿大腸麵線\n",
            "12/16 https://www.ptt.cc/bbs/Food/M.1355673582.A.5F7.html [公告] Food板 板規 V3.91\n",
            " 9/28 https://www.ptt.cc/bbs/Food/M.1190944426.A.E6C.html [公告] 發文請在標題加上地區及提供地址電話。^^\n",
            "10/01 https://www.ptt.cc/bbs/Food/M.1128132666.A.0FD.html [公告] 文章被刪除者請洽精華區的資源回收桶\n",
            " 6/04 https://www.ptt.cc/bbs/Food/M.1496532469.A.C36.html [公告] 新增板規22：發文禁附延伸閱讀連結\n",
            "第2頁\n",
            " 7/31 https://www.ptt.cc/bbs/Food/M.1659281911.A.775.html [食記] 台北。微風南山景觀餐廳-史密斯華倫斯基\n",
            " 7/31 https://www.ptt.cc/bbs/Food/M.1659282958.A.507.html [請益] 米食之家\n",
            " 8/01 https://www.ptt.cc/bbs/Food/M.1659288120.A.F75.html [食記] 台北 大同 延三溫體牛\n",
            " 8/01 https://www.ptt.cc/bbs/Food/M.1659289051.A.11B.html [食記] 萬華 永富冰淇淋|古早味芋頭冰\n",
            " 8/01 https://www.ptt.cc/bbs/Food/M.1659316713.A.E06.html [食記] 台東．成功．一日手作(平價咖啡結合烘焙)\n",
            " 8/01 https://www.ptt.cc/bbs/Food/M.1659316801.A.8B5.html [食記] 新北 新莊 博多赤麵廠\n",
            " 8/01 https://www.ptt.cc/bbs/Food/M.1659317993.A.30D.html [食記] 台南 鶴橋風月大阪燒 in 三井Outlet\n",
            " 8/01 https://www.ptt.cc/bbs/Food/M.1659325289.A.F76.html [交換] Will's Teppanyaki 訂位交換\n",
            " 8/01 https://www.ptt.cc/bbs/Food/M.1659332971.A.61A.html [食記] 桃園內壢平價義式料理 雲朵Cloud義大利\n",
            " 8/01 https://www.ptt.cc/bbs/Food/M.1659338093.A.49D.html [食記] 台北 酒店自助餐 探索廚房和十二廚誰比較厲害\n",
            " 8/01 https://www.ptt.cc/bbs/Food/M.1659346959.A.351.html [食記] 台北 大安區 長春藤法式餐廳 \n",
            " 8/01 https://www.ptt.cc/bbs/Food/M.1659348762.A.055.html [食記] 台北 大安區 神旺大飯店-普諾麵包坊\n",
            " 8/01 https://www.ptt.cc/bbs/Food/M.1659349633.A.1EE.html [交換] Sur 澀 9/4日中午 交換9/3六晚上\n",
            " 8/01 https://www.ptt.cc/bbs/Food/M.1659353024.A.0C5.html [食記] 花蓮火車站小吃 好吃炒飯系列 阿珍小吃店\n",
            " 8/01 https://www.ptt.cc/bbs/Food/M.1659355469.A.8A1.html [食記] 西門。樂野食義大利麵鬆餅下午茶咖啡廳\n",
            " 8/01 https://www.ptt.cc/bbs/Food/M.1659356732.A.97F.html [食記] 台北 阿豬媽韓式烤肉吃到飽西門店\n",
            " 8/01 https://www.ptt.cc/bbs/Food/M.1659361722.A.1C0.html [食記] 台北 抱囍食聚\n",
            " 8/01 https://www.ptt.cc/bbs/Food/M.1659362668.A.D01.html [食記] 台北 和民居食屋 炒烏龍麵炒飯 外送外帶\n",
            " 8/01 https://www.ptt.cc/bbs/Food/M.1659362703.A.BCC.html [食記] 鴨香寶東山鴨頭 新北新莊 香酥鴨皮甜不辣\n",
            " 8/01 https://www.ptt.cc/bbs/Food/M.1659365110.A.1DB.html [食記] 新北新店ikea瑞典餐廳早餐\n",
            "第3頁\n",
            " 7/30 https://www.ptt.cc/bbs/Food/M.1659191213.A.525.html [食記] 新竹竹北-雙主餐日式料理-好旬日食\n",
            " 7/30 https://www.ptt.cc/bbs/Food/M.1659191707.A.24D.html [食記] 新竹異國|艷麗南洋料理。超豐盛擺盤\n",
            " 7/30 https://www.ptt.cc/bbs/Food/M.1659192200.A.BB3.html [食記] 桃園中壢區。渴望茶飲\n",
            " 7/30 https://www.ptt.cc/bbs/Food/M.1659194670.A.35D.html [食記] 板凳麵 新北板橋 香酥厚實不油膩蔥油餅蛋\n",
            " 7/30 https://www.ptt.cc/bbs/Food/M.1659195288.A.65D.html [食記] 台北市文山區-張太太緣素食小吃店\n",
            " 7/30 https://www.ptt.cc/bbs/Food/M.1659195986.A.C4B.html [食記] 台北Smith & Wollensky 最愛跑到牛小排\n",
            " 7/31 https://www.ptt.cc/bbs/Food/M.1659199686.A.630.html [食記] 高雄 東悅坊-櫻桃鴨三吃1880\n",
            " 7/31 https://www.ptt.cc/bbs/Food/M.1659230754.A.E3F.html [食記] 台南 饗麻饗辣-國賓店 麻辣火鍋吃到飽\n",
            " 7/31 https://www.ptt.cc/bbs/Food/M.1659237339.A.B7F.html [食記] 台北中正 涮樂和牛鍋物 公館店(吃到飽)\n",
            " 7/31 https://www.ptt.cc/bbs/Food/M.1659253094.A.3C7.html [食記] 彰化 北斗 阿琴姐高麗菜飯\n",
            " 7/31 https://www.ptt.cc/bbs/Food/M.1659258333.A.B04.html [食記] 台北中山 晶華軒 基本菜就好強了 必吃驚艷八寶冬瓜盅\n",
            " 7/31 https://www.ptt.cc/bbs/Food/M.1659260084.A.4C7.html [食記] 台北市中正區 浪浪別哭台北店\n",
            " 7/31 https://www.ptt.cc/bbs/Food/M.1659268474.A.220.html [食記] 台北 中山 W. Cookery 烹然私廚\n",
            " 7/31 https://www.ptt.cc/bbs/Food/M.1659270980.A.54C.html [食記] 基隆金龍肉焿\n",
            " 7/31 https://www.ptt.cc/bbs/Food/M.1659272449.A.916.html [食記] 台南 榮盛點心，開業80年的米糕小吃\n",
            " 7/31 https://www.ptt.cc/bbs/Food/M.1659275024.A.4C0.html [食記] 台北 和蒔炭火割烹 再訪\n",
            " 7/31 https://www.ptt.cc/bbs/Food/M.1659276723.A.917.html [食記] 台北南港中信 Spaggo義大利麵 (平價義麵 \n",
            " 7/31 https://www.ptt.cc/bbs/Food/M.1659277383.A.8C8.html [食記] 台北大同 元味料理 沒有魚簡單吃\n",
            " 7/31 https://www.ptt.cc/bbs/Food/M.1659278064.A.697.html [食記] 醉心拉麵 新北永和 淡雅充滿鮮味河豚拉麵\n",
            "第4頁\n",
            " 7/29 https://www.ptt.cc/bbs/Food/M.1659066874.A.6C8.html [食記] 台北萬隆 菊屋日本料理 當地老字號日料店\n",
            " 7/29 https://www.ptt.cc/bbs/Food/M.1659067224.A.C92.html [食記] 花蓮扁食評比(戴記/液香/花蓮香/一品香)\n",
            " 7/29 https://www.ptt.cc/bbs/Food/M.1659087041.A.EC9.html [食記] 新竹 城隍廟周邊小吃懶人包!交通資訊彙整\n",
            " 7/29 https://www.ptt.cc/bbs/Food/M.1659099975.A.1E1.html [食記] 彰化 蛋黃酥評比 不二坊 新口味 五糜人\n",
            " 7/29 https://www.ptt.cc/bbs/Food/M.1659102733.A.A28.html [食記] 台北 元味料理~絕美閹雞\n",
            " 7/29 https://www.ptt.cc/bbs/Food/M.1659104811.A.824.html [食記] 台北古亭 Oh my!原燒 日式燒肉A5和牛套餐\n",
            " 7/29 https://www.ptt.cc/bbs/Food/M.1659106923.A.D89.html [食記] 新竹 品豐冰室港式茶餐廳 百元左右港點\n",
            " 7/29 https://www.ptt.cc/bbs/Food/M.1659107476.A.9E1.html [食記] 小春園滷味 台北大同 超入味百年滷味老店\n",
            " 7/29 https://www.ptt.cc/bbs/Food/M.1659107531.A.6C6.html [食記] 桃園平鎮區。二哈小卷米粉\n",
            " 7/30 https://www.ptt.cc/bbs/Food/M.1659113481.A.436.html [食記] 台北 Baan Taipei 泰式家庭料理 多次心得\n",
            " 7/30 https://www.ptt.cc/bbs/Food/M.1659113944.A.088.html [公告] 水桶名單：citycandy\n",
            " 7/30 https://www.ptt.cc/bbs/Food/M.1659127714.A.434.html [食記] 高雄 榛果怪義式冰淇淋 口味多好吃不膩口\n",
            " 7/30 https://www.ptt.cc/bbs/Food/M.1659128280.A.597.html [食記] 高雄 叁和院義享店 可愛造型包子好吸睛\n",
            " 7/30 https://www.ptt.cc/bbs/Food/M.1659179798.A.614.html [食記] 台北日本橋海鮮丼\n",
            " 7/30 https://www.ptt.cc/bbs/Food/M.1659182336.A.EB5.html [食記] 東京 半月 新大久保的拼圖之一\n",
            " 7/30 https://www.ptt.cc/bbs/Food/M.1659182350.A.83C.html 台南中西區『熨斗目花』日式老宅｜鍋物｜咖哩｜\n",
            " 7/30 https://www.ptt.cc/bbs/Food/M.1659182786.A.FC7.html [食記] 台北中山濱江市場 安安海鮮生魚片(超人氣\n",
            " 7/30 https://www.ptt.cc/bbs/Food/M.1659182936.A.F9D.html [食記] 台中西屯文華高中站 輕煙蒜味肉羹專賣\n",
            " 7/30 https://www.ptt.cc/bbs/Food/M.1659185561.A.2D1.html [食記]『台北』有點失望的寒舍艾美酒店探索廚房\n",
            " 7/30 https://www.ptt.cc/bbs/Food/M.1659190937.A.FA4.html [食記] 台中 北屯區│早安有喜 東山店\n",
            "第5頁\n",
            " 7/28 https://www.ptt.cc/bbs/Food/M.1658994134.A.166.html [食記] 台中 老宅風格限量雞腿麵要吃請早-桂蘭麵\n",
            " 7/28 https://www.ptt.cc/bbs/Food/M.1659000480.A.45F.html [食記] 台北大安 Pizza Chez 韓式網美店 想專心看網美必來 \n",
            " 7/28 https://www.ptt.cc/bbs/Food/M.1659001911.A.5F9.html [食記] 黃記魯肉飯 台北中山 香黏膠質豬腳滷肉飯\n",
            " 7/28 https://www.ptt.cc/bbs/Food/M.1659010989.A.8B3.html [食記] [新竹] 胖丸肉圓 ～推麻辣肉圓、肉圓湯\n",
            " 7/28 https://www.ptt.cc/bbs/Food/M.1659012155.A.A90.html [食記] 高雄 阿嬤ㄟ蕃薯圓 古早味人氣手作冰品\n",
            " 7/28 https://www.ptt.cc/bbs/Food/M.1659013801.A.61C.html [請益] 台北鰻魚飯\n",
            " 7/28 https://www.ptt.cc/bbs/Food/M.1659014651.A.D21.html [食記] 花蓮美食｜小巷茉莉.巷弄內美味舒芙蕾\n",
            " 7/28 https://www.ptt.cc/bbs/Food/M.1659015609.A.797.html [食記] 台北內湖東湖 阿通師私房牛肉麵(平價熱炒\n",
            " 7/28 https://www.ptt.cc/bbs/Food/M.1659015994.A.62E.html [廣宣] 台北士林 柒息地串燒居酒屋 平價串燒\n",
            " 7/28 https://www.ptt.cc/bbs/Food/M.1659016513.A.F58.html [食記] 台北 山三石 茶時沙龍\n",
            " 7/28 https://www.ptt.cc/bbs/Food/M.1659016688.A.3B4.html [食記] 高雄 鹽埕 鴨肉珍\n",
            " 7/28 https://www.ptt.cc/bbs/Food/M.1659016967.A.84C.html [食記] 台北 銀座杏子日式豬排 北車微風店 反推\n",
            " 7/28 https://www.ptt.cc/bbs/Food/M.1659020182.A.EE4.html [食記] 中料好吃的平價港式料理－好正點港式點心\n",
            " 7/29 https://www.ptt.cc/bbs/Food/M.1659027857.A.CFA.html [食記] 台南東區 Mmm Brunch全天漢堡早午餐\n",
            " 7/29 https://www.ptt.cc/bbs/Food/M.1659038091.A.C24.html [食記] 三重 洋町食堂 年初新開的日系小食堂 \n",
            " 7/29 https://www.ptt.cc/bbs/Food/M.1659045792.A.C27.html [食記] 內湖 神來麻辣鍋 鴨血豆腐明治冰淇淋吃到飽\n",
            " 7/29 https://www.ptt.cc/bbs/Food/M.1659052778.A.395.html [食記] 台南 寿の製乳所 紅烏龍、鐵觀音、鮮奶茶\n",
            " 7/29 https://www.ptt.cc/bbs/Food/M.1659056845.A.85F.html [轉讓]  forchetta 7/29 晚餐\n",
            " 7/29 https://www.ptt.cc/bbs/Food/M.1659064351.A.CE1.html [食記] 新竹 藏王極上鍋物 新竹火鍋推薦\n"
          ]
        }
      ]
    },
    {
      "cell_type": "code",
      "source": [
        "# 八掛版\n",
        "# https://www.ptt.cc/bbs/Gossiping/index.html\n",
        "import requests\n",
        "from bs4 import BeautifulSoup\n",
        "url ='https://www.ptt.cc/bbs/Gossiping/index.html'\n",
        "cookies={'over18':'1'}\n",
        "for i in range(5):\n",
        "  print(f'第{i+1}頁')\n",
        "  r = requests.get(url,cookies=cookies)\n",
        "  sp = BeautifulSoup(r.text,'html.parser')\n",
        "  datas = sp.find_all('div',class_='r-ent')\n",
        "  for data in datas:\n",
        "    if data.a:\n",
        "      print(data.find('div',class_='date').text,end=' ')\n",
        "      print('https://www.ptt.cc'+data.a.get('href'),end=' ')\n",
        "      print(data.find('a').text)\n",
        "\n",
        "  url='https://www.ptt.cc'+sp.find_all('a',class_='btn wide')[1].get('href')"
      ],
      "metadata": {
        "id": "lGuf4sdTca8e",
        "colab": {
          "base_uri": "https://localhost:8080/"
        },
        "outputId": "b8eb83c4-6370-496b-faa2-2e3949307d75"
      },
      "execution_count": null,
      "outputs": [
        {
          "output_type": "stream",
          "name": "stdout",
          "text": [
            "第1頁\n",
            " 8/03 https://www.ptt.cc/bbs/Gossiping/M.1659491416.A.81B.html [問卦] 裴洛西宣布什麼會讓中國人直接崩潰?\n",
            " 8/03 https://www.ptt.cc/bbs/Gossiping/M.1659491419.A.74C.html [問卦] 鬼月到底能不能剪頭髮？\n",
            " 8/03 https://www.ptt.cc/bbs/Gossiping/M.1659491444.A.077.html 這種等級口譯大概水準在哪啊\n",
            " 2/21 https://www.ptt.cc/bbs/Gossiping/M.1645455874.A.65E.html [公告] 八卦板板規(2022.02.21)\n",
            " 7/07 https://www.ptt.cc/bbs/Gossiping/M.1657171907.A.953.html [協尋] 7/6 16:50 行車記錄器 台74線 松竹匝道\n",
            " 7/09 https://www.ptt.cc/bbs/Gossiping/M.1657376591.A.479.html [公告] 轉錄爆卦勿擅加資訊 水桶\n",
            " 8/01 https://www.ptt.cc/bbs/Gossiping/M.1659326580.A.6F3.html [公告]  ／｜｜｜＼八爪章魚八月份置底閒聊 \n",
            "第2頁\n",
            " 8/03 https://www.ptt.cc/bbs/Gossiping/M.1659490953.A.A73.html [問卦] 拜託 冷靜一下好嗎？不要一直無腦跟風\n",
            " 8/03 https://www.ptt.cc/bbs/Gossiping/M.1659490955.A.7CD.html [問卦] 微博網民：中禁天然砂，制裁台積電！\n",
            " 8/03 https://www.ptt.cc/bbs/Gossiping/M.1659490999.A.8C0.html [問卦] 美眾議長被干擾蔡其昌在幹嘛\n",
            " 8/03 https://www.ptt.cc/bbs/Gossiping/M.1659491033.A.E39.html [新聞] 裴洛西來台！柯文哲：我們和美日交好「\n",
            " 8/03 https://www.ptt.cc/bbs/Gossiping/M.1659491064.A.C2F.html Re: [問卦] SPAR20要飛去哪\n",
            " 8/03 https://www.ptt.cc/bbs/Gossiping/M.1659491073.A.95D.html [問卦] 浪3王心凌還在對岸安全嗎??\n",
            " 8/03 https://www.ptt.cc/bbs/Gossiping/M.1659491079.A.285.html [問卦] 罵口譯的都是誰啊\n",
            " 8/03 https://www.ptt.cc/bbs/Gossiping/M.1659491080.A.626.html [問卦] 立法院會有人戴川普口罩見佩洛西嗎？\n",
            " 8/03 https://www.ptt.cc/bbs/Gossiping/M.1659491088.A.888.html [問卦] 台灣官方語言改成英文好不好？\n",
            " 8/03 https://www.ptt.cc/bbs/Gossiping/M.1659491096.A.AE7.html [問卦] 渣男說我要進來了\n",
            " 8/03 https://www.ptt.cc/bbs/Gossiping/M.1659491168.A.AF0.html [問卦] 為什麼不找可以英文對話的高官？\n",
            " 8/03 https://www.ptt.cc/bbs/Gossiping/M.1659491188.A.807.html [問卦] 台灣文組去當翻譯是真的爛吧？\n",
            " 8/03 https://www.ptt.cc/bbs/Gossiping/M.1659491196.A.E50.html Re: [問卦] 新莊幸褔路的路況也太惡夢\n",
            " 8/03 https://www.ptt.cc/bbs/Gossiping/M.1659491225.A.32A.html Re: [問卦] 裴洛西遇到麥克風故障在想什麼？\n",
            " 8/03 https://www.ptt.cc/bbs/Gossiping/M.1659491242.A.C70.html [問卦] 飛彈呢？\n",
            " 8/03 https://www.ptt.cc/bbs/Gossiping/M.1659491275.A.53C.html Re: [新聞] 龐佩奧離台了！　訪台遭爆政府贊助420萬\n",
            " 8/03 https://www.ptt.cc/bbs/Gossiping/M.1659491287.A.31C.html [問卦] 四爺會陪若曦逛台灣哪些景點的八卦?\n",
            " 8/03 https://www.ptt.cc/bbs/Gossiping/M.1659491305.A.47C.html [問卦] 美國老爸這麼挺臺灣怎麼不再建交呢\n",
            " 8/03 https://www.ptt.cc/bbs/Gossiping/M.1659491403.A.2EF.html [問卦]  四目已die 是哪四目？\n",
            " 8/03 https://www.ptt.cc/bbs/Gossiping/M.1659491403.A.F0C.html Re: [新聞] 解放軍宣布在台灣周圍進行軍演 形同海空\n",
            "第3頁\n",
            " 8/03 https://www.ptt.cc/bbs/Gossiping/M.1659490552.A.1DD.html Re: [爆卦] 中國暫停對台灣出口天然砂\n",
            " 8/03 https://www.ptt.cc/bbs/Gossiping/M.1659490559.A.D41.html Re: [問卦] 我們的口譯是不是很爛啊？\n",
            " 8/03 https://www.ptt.cc/bbs/Gossiping/M.1659490662.A.E2C.html Re: [爆卦] 口譯打斷斐洛西？\n",
            " 8/03 https://www.ptt.cc/bbs/Gossiping/M.1659490662.A.020.html Re: [問卦] 朋友來我家，結果鄰居說我這是跟他交惡？\n",
            " 8/03 https://www.ptt.cc/bbs/Gossiping/M.1659490670.A.960.html [問卦] 口譯妹是不是很大咖\n",
            " 8/03 https://www.ptt.cc/bbs/Gossiping/M.1659490677.A.309.html Re: [問卦] 裴洛西是不是超人?昨天這麼晚睡這麼早起\n",
            " 8/03 https://www.ptt.cc/bbs/Gossiping/M.1659490696.A.6DB.html [問卦] 現在可以歐印了八?\n",
            " 8/03 https://www.ptt.cc/bbs/Gossiping/M.1659490700.A.D2B.html [問卦] 為什麼麥克風這種東西很常出包?\n",
            " 8/03 https://www.ptt.cc/bbs/Gossiping/M.1659490718.A.C09.html [問卦] 有種淘寶停運台灣啦\n",
            " 8/03 https://www.ptt.cc/bbs/Gossiping/M.1659490733.A.64E.html [問卦] SPAR20要飛去哪\n",
            " 8/03 https://www.ptt.cc/bbs/Gossiping/M.1659490757.A.54E.html [新聞] 林智堅論文門換台大接球　教授曝丟入比對系統已證「抄襲」\n",
            " 8/03 https://www.ptt.cc/bbs/Gossiping/M.1659490816.A.FFE.html [問卦] 代表言論自由的八卦板是不是應該也參訪?\n",
            " 8/03 https://www.ptt.cc/bbs/Gossiping/M.1659490824.A.1B7.html Re: [問卦] 為什麼麥克風這種東西很常出包?\n",
            " 8/03 https://www.ptt.cc/bbs/Gossiping/M.1659490852.A.106.html Re: [新聞] 林秉樞靠一招脫罪！　當庭告白「我還愛\n",
            " 8/03 https://www.ptt.cc/bbs/Gossiping/M.1659490876.A.500.html [問卦] 我要的大場面呢？？？？？？？\n",
            " 8/03 https://www.ptt.cc/bbs/Gossiping/M.1659490894.A.336.html [問卦] 今天口譯台女是誰？\n",
            " 8/03 https://www.ptt.cc/bbs/Gossiping/M.1659490912.A.869.html [問卦] 裴姨最後要講什麼?幹嘛翻譯不給講?\n",
            " 8/03 https://www.ptt.cc/bbs/Gossiping/M.1659490917.A.2FE.html [問卦] 有人也是發自內心 希望戰爭嗎？\n",
            " 8/03 https://www.ptt.cc/bbs/Gossiping/M.1659490941.A.E7B.html [問卦] 是誰搶走了我的麥克風？\n",
            " 8/03 https://www.ptt.cc/bbs/Gossiping/M.1659490947.A.82C.html Re: [問卦] 不是欸，領空海域被人拿來演習？\n",
            "第4頁\n",
            " 8/03 https://www.ptt.cc/bbs/Gossiping/M.1659490011.A.26D.html [問卦] 有沒有覺青又開始賣芒果乾了\n",
            " 8/03 https://www.ptt.cc/bbs/Gossiping/M.1659490013.A.932.html [問卦] 為何國軍不宣布在中共演習場旁演習？\n",
            " 8/03 https://www.ptt.cc/bbs/Gossiping/M.1659490031.A.C00.html [問卦] 蔡粉什麼時候承認蔡已經過氣了????\n",
            " 8/03 https://www.ptt.cc/bbs/Gossiping/M.1659490134.A.0BA.html [問卦] 所以我說那個新竹球場呢\n",
            " 8/03 https://www.ptt.cc/bbs/Gossiping/M.1659490182.A.B6C.html [問卦] 這麼重要的場合口譯怎麼不挑一下？\n",
            " 8/03 https://www.ptt.cc/bbs/Gossiping/M.1659490189.A.AB7.html Re: [爆卦] 中國暫停對台灣出口天然砂\n",
            " 8/03 https://www.ptt.cc/bbs/Gossiping/M.1659490197.A.525.html [問卦] 所以現在全台都變裴粉嗎？\n",
            " 8/03 https://www.ptt.cc/bbs/Gossiping/M.1659490202.A.624.html [問卦] 老鐵們，早上好\n",
            " 8/03 https://www.ptt.cc/bbs/Gossiping/M.1659490251.A.0AE.html [問卦] 裴洛西遇到麥克風故障在想什麼？\n",
            " 8/03 https://www.ptt.cc/bbs/Gossiping/M.1659490285.A.054.html [問卦]中禁天然沙出口台！覺青又崩潰！\n",
            " 8/03 https://www.ptt.cc/bbs/Gossiping/M.1659490288.A.C83.html [問卦] 喜歡被女主肛算是甲甲嗎?\n",
            " 8/03 https://www.ptt.cc/bbs/Gossiping/M.1659490326.A.EE1.html [問卦] 公家麥克風是哪個品牌的？\n",
            " 8/03 https://www.ptt.cc/bbs/Gossiping/M.1659490337.A.2AC.html [問卦] 如果你遇到70年前的斐蘿你會跟他交往嗎?\n",
            " 8/03 https://www.ptt.cc/bbs/Gossiping/M.1659490366.A.B32.html [問卦] 裴洛西是不是超人?昨天這麼晚睡這麼早起\n",
            " 8/03 https://www.ptt.cc/bbs/Gossiping/M.1659490467.A.C10.html [問卦] 要帶裴嬤去台灣最民主的地方，急\n",
            " 8/03 https://www.ptt.cc/bbs/Gossiping/M.1659490469.A.D45.html Re: [新聞] 解放軍宣布在台灣周圍進行軍演 形同海空\n",
            " 8/03 https://www.ptt.cc/bbs/Gossiping/M.1659490472.A.24F.html [問卦] 什麼樣的公司會亂僱人？\n",
            " 8/03 https://www.ptt.cc/bbs/Gossiping/M.1659490508.A.FDC.html [新聞] 日民調岸田內閣支持率創新低 過半受訪者\n",
            " 8/03 https://www.ptt.cc/bbs/Gossiping/M.1659490530.A.952.html [問卦] 同步口譯是不是很燒腦的工作\n",
            " 8/03 https://www.ptt.cc/bbs/Gossiping/M.1659490548.A.F5C.html Re: [爆卦] 中國暫停對台灣出口天然砂\n",
            "第5頁\n",
            " 8/03 https://www.ptt.cc/bbs/Gossiping/M.1659489553.A.57A.html [問卦] MIC就是爛\n",
            " 8/03 https://www.ptt.cc/bbs/Gossiping/M.1659489559.A.D2E.html [問卦] 麥克風漏電的機率有多少？\n",
            " 8/03 https://www.ptt.cc/bbs/Gossiping/M.1659489579.A.EBD.html [問卦] 朋友來我家，結果鄰居說我這是跟他交惡？\n",
            " 8/03 https://www.ptt.cc/bbs/Gossiping/M.1659489612.A.7CC.html Re: [問卦] 真的叫你上戰場了,你會不怕？\n",
            " 8/03 https://www.ptt.cc/bbs/Gossiping/M.1659489621.A.4E9.html [問卦] 為什麼要去景美人權園區？\n",
            " 8/03 https://www.ptt.cc/bbs/Gossiping/M.1659489626.A.FC2.html [問卦] 我們的口譯是不是很爛啊？\n",
            " 8/03 https://www.ptt.cc/bbs/Gossiping/M.1659489684.A.685.html [問卦] 重頭戲4號登場，失控的可能？\n",
            " 8/03 https://www.ptt.cc/bbs/Gossiping/M.1659489695.A.24A.html [問卦] 為什麼拜會需要請翻譯？\n",
            " 8/03 https://www.ptt.cc/bbs/Gossiping/M.1659489702.A.324.html [問卦] 台灣出包意外嗎？\n",
            " 8/03 https://www.ptt.cc/bbs/Gossiping/M.1659489751.A.83D.html Re: [爆卦] 中國暫停對台灣出口天然砂\n",
            " 8/03 https://www.ptt.cc/bbs/Gossiping/M.1659489771.A.291.html [問卦] 台灣獨立是不是邏輯問題\n",
            " 8/03 https://www.ptt.cc/bbs/Gossiping/M.1659489797.A.CF3.html [問卦] 口譯484中共同路人出包??\n",
            " 8/03 https://www.ptt.cc/bbs/Gossiping/M.1659489863.A.1D8.html [問卦] 能夠回憶殺的藝人??\n",
            " 8/03 https://www.ptt.cc/bbs/Gossiping/M.1659489928.A.550.html Re: [爆卦] 裴洛西立院LIVE  \n",
            " 8/03 https://www.ptt.cc/bbs/Gossiping/M.1659489942.A.20D.html [問卦] 每年上千億的保護費 總要來摸頭的吧?\n",
            " 8/03 https://www.ptt.cc/bbs/Gossiping/M.1659489962.A.6D3.html [問卦] ☺  肥宅打開「強力除臭」有加分嗎？\n",
            " 8/03 https://www.ptt.cc/bbs/Gossiping/M.1659489966.A.4D7.html [問卦] 中共演習導彈時我們可以試反導彈嗎?\n",
            " 8/03 https://www.ptt.cc/bbs/Gossiping/M.1659490002.A.29A.html [問卦] 裴洛西喜歡吃北部粽還是南部粽？\n",
            " 8/03 https://www.ptt.cc/bbs/Gossiping/M.1659490011.A.DF7.html [問卦] 裴洛西今天的穿搭大家給幾分？\n"
          ]
        }
      ]
    },
    {
      "cell_type": "markdown",
      "source": [
        "## 專題：影城電影資料爬蟲\n",
        "\n",
        "網址：[日日新影城-熱映電影](https://srm.com.tw/%e9%9b%bb%e5%bd%b1%e7%b0%a1%e4%bb%8b/%e7%86%b1%e6%98%a0%e4%b8%ad/ '熱映電影')\n",
        "\n",
        "任務：\n",
        "- 請收集電影名稱、說明網址及上映時間\n",
        "- 請下載電影海報照片儲存在`photos`資料夾"
      ],
      "metadata": {
        "id": "d-K1CbG1JMfA"
      }
    },
    {
      "cell_type": "code",
      "execution_count": null,
      "metadata": {
        "id": "o5tWm8oN6rz3",
        "colab": {
          "base_uri": "https://localhost:8080/",
          "height": 36
        },
        "outputId": "90521fe9-0583-4c05-f619-cbdf04d1e595"
      },
      "outputs": [
        {
          "output_type": "execute_result",
          "data": {
            "text/plain": [
              "'熱映中 - 日日新影城'"
            ],
            "application/vnd.google.colaboratory.intrinsic+json": {
              "type": "string"
            }
          },
          "metadata": {},
          "execution_count": 48
        }
      ],
      "source": [
        "from requests.api import request\n",
        "# 影城電影資料爬蟲\n",
        "import requests\n",
        "from bs4 import BeautifulSoup\n",
        "url='https://srm.com.tw/%e9%9b%bb%e5%bd%b1%e7%b0%a1%e4%bb%8b/%e7%86%b1%e6%98%a0%e4%b8%ad/'\n",
        "r=requests.get(url)\n",
        "sp=BeautifulSoup(r.text,'html.parser')\n",
        "sp.title.text"
      ]
    },
    {
      "cell_type": "code",
      "source": [
        "import os\n",
        "if not os.path.exists('photo'):\n",
        "  os.mkdir('photos')\n",
        "for i in range(len(sp.find_all('article'))):\n",
        "  print(sp.find_all('article')[i].find('h3').a.text)\n",
        "  print(sp.find_all('article')[i].find('h3').a.get('href'))\n",
        "  print(sp.find_all('article')[i].find('div',itemprop='text').text)\n",
        "  print(sp.find_all('article')[i].img['src'])\n",
        "\n",
        "  with open('photos/'+sp.find_all('article')[i].find('h3').a.text+'.jpg','wb')as f:\n",
        "    f.write(requests.get(sp.find_all('article')[i].img['src']).content)\n",
        "  print()"
      ],
      "metadata": {
        "colab": {
          "base_uri": "https://localhost:8080/"
        },
        "id": "z48wLm0phnQA",
        "outputId": "efb9e8c0-5083-496e-c591-7ece2404e72e"
      },
      "execution_count": null,
      "outputs": [
        {
          "output_type": "stream",
          "name": "stdout",
          "text": [
            "民雄鬼屋\n",
            "https://srm.com.tw/portfolio-item/%e6%b0%91%e9%9b%84%e9%ac%bc%e5%b1%8b/\n",
            "上映日期：2022.07.29\n",
            "https://srm.com.tw/wp-content/uploads/2022/06/Minxiong-Haunted-House..jpg\n",
            "\n",
            "外星+人\n",
            "https://srm.com.tw/portfolio-item/%e5%a4%96%e6%98%9f%e4%ba%ba/\n",
            "上映日期2022/07/27\n",
            "https://srm.com.tw/wp-content/uploads/2022/06/Alienoid-1.jpg\n",
            "\n",
            "小小兵2：格魯的崛起\n",
            "https://srm.com.tw/portfolio-item/%e5%b0%8f%e5%b0%8f%e5%85%b52%ef%bc%9a%e6%a0%bc%e9%ad%af%e7%9a%84%e5%b4%9b%e8%b5%b7/\n",
            "上映日期：2022.07.20\n",
            "https://srm.com.tw/wp-content/uploads/2022/06/Minions-The-Rise-of-Guru..jpg\n",
            "\n",
            "雷神索爾：愛與雷霆\n",
            "https://srm.com.tw/portfolio-item/%e9%9b%b7%e7%a5%9e%e7%b4%a2%e7%88%be%ef%bc%9a%e6%84%9b%e8%88%87%e9%9b%b7%e9%9c%86/\n",
            "上映日期：2022.07.06\n",
            "https://srm.com.tw/wp-content/uploads/2022/06/Thor-Love-and-Thunder.jpg\n",
            "\n",
            "魔女二部曲：另一個她\n",
            "https://srm.com.tw/portfolio-item/%e9%ad%94%e5%a5%b3%e4%ba%8c%e9%83%a8%e6%9b%b2%ef%bc%9a%e5%8f%a6%e4%b8%80%e5%80%8b%e5%a5%b9/\n",
            "上映日期：2022.07.01\n",
            "https://srm.com.tw/wp-content/uploads/2022/06/The-Witch_Part2_Launching-Poster_TW.jpg\n",
            "\n",
            "名偵探柯南：萬聖節的新娘\n",
            "https://srm.com.tw/portfolio-item/%e5%90%8d%e5%81%b5%e6%8e%a2%e6%9f%af%e5%8d%97%ef%bc%9a%e8%90%ac%e8%81%96%e7%af%80%e7%9a%84%e6%96%b0%e5%a8%98/\n",
            "上映日期：2022.06.30\n",
            "https://srm.com.tw/wp-content/uploads/2022/06/DETECTIVE-CONAN-THE-BRIDE-OF-HALLOWEEN.jpg\n",
            "\n",
            "侏羅紀世界：統霸天下\n",
            "https://srm.com.tw/portfolio-item/%e4%be%8f%e7%be%85%e7%b4%80%e4%b8%96%e7%95%8c%ef%bc%9a%e7%b5%b1%e9%9c%b8%e5%a4%a9%e4%b8%8b/\n",
            "上映日期：2022.06.08\n",
            "https://srm.com.tw/wp-content/uploads/2022/05/Jurassic-World-Dominion..jpg\n",
            "\n",
            "捍衛戰士：獨行俠\n",
            "https://srm.com.tw/portfolio-item/%e6%8d%8d%e8%a1%9b%e6%88%b0%e5%a3%ab%ef%bc%9a%e7%8d%a8%e8%a1%8c%e4%bf%a0/\n",
            "上映日期：2022.05.25\n",
            "https://srm.com.tw/wp-content/uploads/2022/04/Top-Gun-Maverick..jpg\n",
            "\n"
          ]
        }
      ]
    },
    {
      "cell_type": "markdown",
      "source": [
        "## 專題：台灣彩券爬蟲\n",
        "網址:[台灣彩券](https://www.taiwanlottery.com.tw/index_new.aspx)"
      ],
      "metadata": {
        "id": "sIGfy2xJaelg"
      }
    },
    {
      "cell_type": "code",
      "source": [
        "import requests\n",
        "from bs4 import BeautifulSoup\n",
        "url='https://www.taiwanlottery.com.tw/index_new.aspx'\n",
        "r=requests.get(url)\n",
        "sp=BeautifulSoup(r.text,'html.parser')\n",
        "sp.title.text.strip() #strip()將前後的空行符號去掉"
      ],
      "metadata": {
        "colab": {
          "base_uri": "https://localhost:8080/",
          "height": 36
        },
        "id": "tp22TInwazXk",
        "outputId": "0c8bd98c-1d37-4edc-844c-72346e57034a"
      },
      "execution_count": null,
      "outputs": [
        {
          "output_type": "execute_result",
          "data": {
            "text/plain": [
              "'台灣彩券 taiwanlottery'"
            ],
            "application/vnd.google.colaboratory.intrinsic+json": {
              "type": "string"
            }
          },
          "metadata": {},
          "execution_count": 19
        }
      ]
    },
    {
      "cell_type": "code",
      "source": [
        "#威力彩號碼\n",
        "html=sp.find('div',class_='contents_box02')\n",
        "print(html.find('span',class_='font_black15').text)\n",
        "balls=html.find_all('div',class_='ball_tx ball_green')\n",
        "print(\"開出順序：\",end=' ')\n",
        "for i in range(6):\n",
        "  print(balls[i].text,end=' ')\n",
        "print(\"\\n大小順序：\",end=' ')\n",
        "for i in range(6,12):\n",
        "  print(balls[i].text,end=' ')\n",
        "print(\"\\n第二區：\",end=' ')\n",
        "print(html.find('div',class_='ball_red').text)"
      ],
      "metadata": {
        "colab": {
          "base_uri": "https://localhost:8080/"
        },
        "id": "8XjMOeRScYwk",
        "outputId": "9c5ca5d5-d19e-43ab-e29d-47e2ed141c56"
      },
      "execution_count": null,
      "outputs": [
        {
          "output_type": "stream",
          "name": "stdout",
          "text": [
            "111/8/1 第111000061期 \n",
            "開出順序： 25  31  07  05  10  21  \n",
            "大小順序： 05  07  10  21  25  31  \n",
            "第二區： 02 \n"
          ]
        }
      ]
    },
    {
      "cell_type": "code",
      "source": [
        "#大樂透號碼\n",
        "html=sp.find_all('div',class_='contents_box02')[2]\n",
        "print(html.find('span',class_='font_black15').text)\n",
        "balls=html.find_all('div',class_='ball_tx ball_yellow')\n",
        "print(\"開出順序：\",end=' ')\n",
        "for i in range(6):\n",
        "  print(balls[i].text,end=' ')\n",
        "print(\"\\n大小順序：\",end=' ')\n",
        "for i in range(6,12):\n",
        "  print(balls[i].text,end=' ')\n",
        "print(\"\\n特別號：\",end=' ')\n",
        "print(html.find('div',class_='ball_red').text)"
      ],
      "metadata": {
        "colab": {
          "base_uri": "https://localhost:8080/"
        },
        "id": "f9wIYj7lfblD",
        "outputId": "840a9dc2-5429-48db-b0e6-75907b2852f6"
      },
      "execution_count": null,
      "outputs": [
        {
          "output_type": "stream",
          "name": "stdout",
          "text": [
            "111/8/2 第111000071期 \n",
            "開出順序： 29  37  02  26  28  48  \n",
            "大小順序： 02  26  28  29  37  48  \n",
            "特別號： 05 \n"
          ]
        }
      ]
    },
    {
      "cell_type": "markdown",
      "source": [
        "# 非同步載入爬蟲 Ajax\n",
        "網站\n",
        "https://sites.google.com/cdc.gov.tw/2019ncov/taiwan"
      ],
      "metadata": {
        "id": "RMt9fNpe6G04"
      }
    },
    {
      "cell_type": "code",
      "source": [
        "import requests\n",
        "from bs4 import BeautifulSoup\n",
        "url='https://covid19dashboard.cdc.gov.tw/dash3'\n",
        "r=requests.get(url)\n",
        "data=r.json()"
      ],
      "metadata": {
        "id": "77wwSyqj2ZNM",
        "colab": {
          "base_uri": "https://localhost:8080/"
        },
        "outputId": "8b4b18a9-12ee-4f6c-c32f-849e55c6794f"
      },
      "execution_count": null,
      "outputs": [
        {
          "output_type": "stream",
          "name": "stdout",
          "text": [
            "{'0': {'確診': '4,628,294', '死亡': 8994, '送驗': '14,959,806', '排除': '10,300,058', '昨日確診': 23556, '昨日排除': '22,121', '昨日送驗': '47,276'}}\n"
          ]
        }
      ]
    },
    {
      "cell_type": "code",
      "source": [
        "data['0']['死亡']"
      ],
      "metadata": {
        "colab": {
          "base_uri": "https://localhost:8080/"
        },
        "id": "u-LI8QSOnzzW",
        "outputId": "f694319c-33f3-4e64-c55c-1fbc2e141a08"
      },
      "execution_count": null,
      "outputs": [
        {
          "output_type": "execute_result",
          "data": {
            "text/plain": [
              "8994"
            ]
          },
          "metadata": {},
          "execution_count": 77
        }
      ]
    },
    {
      "cell_type": "markdown",
      "source": [
        "# 寫入Google試算表\n",
        "\n",
        "## 步驟\n",
        "* 登入Google Cloud Console網站\n",
        "    * \u000bhttps://console.cloud.google.com\n",
        "* 新增專案(免費使用者只能開12個專案)\n",
        "* 加入要使用的API並啟用(此處啟用Google Sheet API)\n",
        "* 建立憑證(JSON類型)\n",
        "    * 選擇建立憑證/服務帳戶金鑰\n",
        "    * 設定服務帳戶ID(可用預設或自訂，全ID會組合成電子郵件格式)\n",
        "* 選擇JSON金鑰類型\n",
        "* 建立後瀏覽器會下載.json格式金鑰檔到本機，請與Python程式放在一起"
      ],
      "metadata": {
        "id": "OZuiKIlHzuAE"
      }
    },
    {
      "cell_type": "markdown",
      "source": [
        "服務帳戶憑證 service-account@my-project-python-30315.iam.gserviceaccount.com\n",
        "測試連線試算表 1ZThOQutWu5aB4Py6dRzZJtosPBsh45T8zEb1f3dJrR8"
      ],
      "metadata": {
        "id": "7CAHrd9if5Gc"
      }
    },
    {
      "cell_type": "code",
      "source": [
        "!pip install gspread oauth2client"
      ],
      "metadata": {
        "id": "nUcNKB-6hDmD"
      },
      "execution_count": null,
      "outputs": []
    },
    {
      "cell_type": "code",
      "source": [
        "# https://console.developers.google.com\n",
        "import gspread, time\n",
        "from oauth2client.service_account import ServiceAccountCredentials as sac\n",
        "# 設定金鑰檔路徑及驗證範圍\n",
        "auth_json = 'my-project-python-30315-a40a7664676b.json' #金鑰.json\n",
        "gs_scopes = ['https://spreadsheets.google.com/feeds']\n",
        "# 連線資料表\n",
        "cr = sac.from_json_keyfile_name(auth_json, gs_scopes)\n",
        "gc = gspread.authorize(cr) \n",
        "# 開啟資料表\n",
        "spreadsheet_key = '1ZThOQutWu5aB4Py6dRzZJtosPBsh45T8zEb1f3dJrR8' #試算表ID,若要使用新試算表僅需更換ID及設定共用權限\n",
        "sheet = gc.open_by_key(spreadsheet_key)\n",
        "\n",
        "# 開啟工作簿\n",
        "wks = sheet.sheet1\n",
        "\n",
        "# wks=sheet.sheet1\n",
        "# wks-sheet.get_worlsheet(0)\n",
        "# wks=sheet.worksheet('自訂工作表名稱')\n",
        "\n",
        "# 清除所有內容\n",
        "wks.clear()\n",
        "\n",
        "# 用 wks.append_row()寫入資料\n",
        "fruits=['Appale','Banan','Cherry']\n",
        "wks.append_row(fruits)"
      ],
      "metadata": {
        "id": "KFqhxCCshy1c",
        "colab": {
          "base_uri": "https://localhost:8080/"
        },
        "outputId": "b71b358c-ed31-4483-83a1-7ad2ddfb7942"
      },
      "execution_count": null,
      "outputs": [
        {
          "output_type": "execute_result",
          "data": {
            "text/plain": [
              "{'spreadsheetId': '1ZThOQutWu5aB4Py6dRzZJtosPBsh45T8zEb1f3dJrR8',\n",
              " 'updates': {'spreadsheetId': '1ZThOQutWu5aB4Py6dRzZJtosPBsh45T8zEb1f3dJrR8',\n",
              "  'updatedCells': 3,\n",
              "  'updatedColumns': 3,\n",
              "  'updatedRange': \"'工作表1'!A1:C1\",\n",
              "  'updatedRows': 1}}"
            ]
          },
          "metadata": {},
          "execution_count": 2
        }
      ]
    },
    {
      "cell_type": "code",
      "source": [
        "wks.spreadsheet"
      ],
      "metadata": {
        "colab": {
          "base_uri": "https://localhost:8080/"
        },
        "id": "tBdAOutCjNZk",
        "outputId": "be1e78f0-6c82-4577-f445-472b48383711"
      },
      "execution_count": null,
      "outputs": [
        {
          "output_type": "execute_result",
          "data": {
            "text/plain": [
              "<Spreadsheet '測試連線試算表' id:1ZThOQutWu5aB4Py6dRzZJtosPBsh45T8zEb1f3dJrR8>"
            ]
          },
          "metadata": {},
          "execution_count": 3
        }
      ]
    },
    {
      "cell_type": "code",
      "source": [
        "# 開啟工作簿\n",
        "wks = sheet.sheet1\n",
        "# 清除所有內容\n",
        "wks.clear()\n",
        "\n",
        "import csv, time\n",
        "# 用 wks.append_row()寫入資料\n",
        "with open('covid-19.csv','r') as f:\n",
        "  data=csv.reader(f)\n",
        "  for item in data:\n",
        "    wks.append_row(item)\n",
        "    time.sleep(1) #Google試算表限制一秒僅能寫進一次"
      ],
      "metadata": {
        "id": "0fW2VjKIkZpd"
      },
      "execution_count": null,
      "outputs": []
    }
  ]
}